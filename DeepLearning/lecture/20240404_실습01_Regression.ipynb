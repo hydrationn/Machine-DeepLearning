{
  "nbformat": 4,
  "nbformat_minor": 0,
  "metadata": {
    "colab": {
      "provenance": [],
      "authorship_tag": "ABX9TyOne0p/wZSbU6aUrrreSD7M",
      "include_colab_link": true
    },
    "kernelspec": {
      "name": "python3",
      "display_name": "Python 3"
    },
    "language_info": {
      "name": "python"
    }
  },
  "cells": [
    {
      "cell_type": "markdown",
      "metadata": {
        "id": "view-in-github",
        "colab_type": "text"
      },
      "source": [
        "<a href=\"https://colab.research.google.com/github/hydrationn/Machine-DeepLearning/blob/main/20240404_%EC%8B%A4%EC%8A%B501_Regression.ipynb\" target=\"_parent\"><img src=\"https://colab.research.google.com/assets/colab-badge.svg\" alt=\"Open In Colab\"/></a>"
      ]
    },
    {
      "cell_type": "code",
      "execution_count": null,
      "metadata": {
        "colab": {
          "base_uri": "https://localhost:8080/"
        },
        "id": "l-WxFUpTZunQ",
        "outputId": "e022b12a-0bc8-440d-e2d9-730f38e9f319"
      },
      "outputs": [
        {
          "output_type": "stream",
          "name": "stdout",
          "text": [
            "Python 3.10.12\n",
            "2.2.1+cu121\n",
            "1.2.2\n"
          ]
        }
      ],
      "source": [
        "# pytorch, python version 확인\n",
        "\n",
        "import torch\n",
        "import sklearn\n",
        "\n",
        "!python --version\n",
        "print(torch.__version__)\n",
        "print(sklearn.__version__)"
      ]
    },
    {
      "cell_type": "code",
      "source": [
        "# import package\n",
        "\n",
        "import torch\n",
        "import torch.nn as nn\n",
        "import torch.nn.functional as F\n",
        "from torch.utils.data import Dataset, DataLoader\n",
        "import torch.utils.data as data_utils\n",
        "\n",
        "import numpy as np\n",
        "import matplotlib.pyplot as plt\n",
        "\n",
        "from sklearn.preprocessing import StandardScaler\n",
        "from sklearn.model_selection import train_test_split\n",
        "from sklearn.datasets import fetch_california_housing"
      ],
      "metadata": {
        "id": "VuZWrkvEdThr"
      },
      "execution_count": null,
      "outputs": []
    },
    {
      "cell_type": "code",
      "source": [
        "# import dataset\n",
        "\n",
        "housing = fetch_california_housing()\n",
        "print(housing.keys())\n",
        "print(housing.feature_names)"
      ],
      "metadata": {
        "colab": {
          "base_uri": "https://localhost:8080/"
        },
        "id": "4-InzMdzdaE8",
        "outputId": "fd8c0e21-c084-465d-df52-16cdfc11ed4f"
      },
      "execution_count": null,
      "outputs": [
        {
          "output_type": "stream",
          "name": "stdout",
          "text": [
            "dict_keys(['data', 'target', 'frame', 'target_names', 'feature_names', 'DESCR'])\n",
            "['MedInc', 'HouseAge', 'AveRooms', 'AveBedrms', 'Population', 'AveOccup', 'Latitude', 'Longitude']\n"
          ]
        }
      ]
    },
    {
      "cell_type": "code",
      "source": [
        "# import dataset\n",
        "\n",
        "x_data = housing.data\n",
        "y_data = housing.target\n",
        "\n",
        "print(x_data.shape)\n",
        "print(y_data.shape)"
      ],
      "metadata": {
        "colab": {
          "base_uri": "https://localhost:8080/"
        },
        "id": "CGA2FE-jOIZV",
        "outputId": "cdb42ff0-0c3a-48f0-98d3-ab63aaa4311e"
      },
      "execution_count": null,
      "outputs": [
        {
          "output_type": "stream",
          "name": "stdout",
          "text": [
            "(20640, 8)\n",
            "(20640,)\n"
          ]
        }
      ]
    },
    {
      "cell_type": "code",
      "source": [
        "# Data preprocessing - train/test split\n",
        "\n",
        "x_train, x_test, y_train, y_test = train_test_split(x_data, y_data, test_size = 0.2)\n",
        "\n",
        "print(x_train.shape)\n",
        "print(y_train.shape)\n",
        "print(x_test.shape)\n",
        "print(y_test.shape)"
      ],
      "metadata": {
        "colab": {
          "base_uri": "https://localhost:8080/"
        },
        "id": "U5B8lUQDOh_Y",
        "outputId": "6f5fba2d-f0d8-4450-a5c9-b3341440fc3d"
      },
      "execution_count": null,
      "outputs": [
        {
          "output_type": "stream",
          "name": "stdout",
          "text": [
            "(16512, 8)\n",
            "(16512,)\n",
            "(4128, 8)\n",
            "(4128,)\n"
          ]
        }
      ]
    },
    {
      "cell_type": "code",
      "source": [
        "# Data preprocessing - normalization, tensor transformation\n",
        "\n",
        "from sklearn.preprocessing import StandardScaler\n",
        "\n",
        "scaler = StandardScaler()\n",
        "x_train_scaled = scaler.fit_transform(x_train)\n",
        "x_test_scaled = scaler.transform(x_test)\n",
        "\n",
        "x_train_tensor = torch.FloatTensor(x_train_scaled)\n",
        "y_train_tensor = torch.FloatTensor(y_train)\n",
        "\n",
        "x_test_tensor = torch.FloatTensor(x_test_scaled)\n",
        "y_test_tensor = torch.FloatTensor(y_test)"
      ],
      "metadata": {
        "id": "IkLcFHjTOh8P"
      },
      "execution_count": null,
      "outputs": []
    },
    {
      "cell_type": "code",
      "source": [
        "# Data preprocessing - batch generation\n",
        "\n",
        "# 데이터 배치화\n",
        "train_data = data_utils.TensorDataset(x_train_tensor, y_train_tensor)\n",
        "dataloader = data_utils.DataLoader(train_data, batch_size=100, shuffle=True, drop_last=True)\n",
        "\n",
        "# 데이터 확인\n",
        "for batch_idx, (x_batch, y_batch) in enumerate(dataloader):\n",
        "  print(batch_idx)\n",
        "  print(x_batch.shape)\n",
        "  print(y_batch.shape)\n",
        "  break"
      ],
      "metadata": {
        "colab": {
          "base_uri": "https://localhost:8080/"
        },
        "id": "6232Vu93ecw0",
        "outputId": "03961d11-beb2-40f0-ec1d-d1e918765386"
      },
      "execution_count": null,
      "outputs": [
        {
          "output_type": "stream",
          "name": "stdout",
          "text": [
            "0\n",
            "torch.Size([100, 8])\n",
            "torch.Size([100])\n"
          ]
        }
      ]
    },
    {
      "cell_type": "code",
      "source": [
        "# Parameters\n",
        "\n",
        "# Parameter 정의\n",
        "input_size = 8\n",
        "output_size = 1\n",
        "learning_rate = 0.01\n",
        "n_epochs = 100"
      ],
      "metadata": {
        "id": "6l24LVzgOh5n"
      },
      "execution_count": null,
      "outputs": []
    },
    {
      "cell_type": "code",
      "source": [
        "# Model\n",
        "\n",
        "# model 생성\n",
        "model = nn.Linear(input_size, output_size)\n",
        "\n",
        "# 손실함수 생성\n",
        "criterion = nn.MSELoss()\n",
        "optimizer = torch.optim.SGD(model.parameters(), lr=learning_rate)"
      ],
      "metadata": {
        "id": "8Eq0mpY1Oh2g"
      },
      "execution_count": null,
      "outputs": []
    },
    {
      "cell_type": "code",
      "source": [
        "# Train / Validation\n",
        "\n",
        "# Running the model\n",
        "train_loss = []\n",
        "test_loss = []\n",
        "\n",
        "for epoch in range(n_epochs+1):\n",
        "\n",
        "  for idx, (x_batch, y_batch) in enumerate(dataloader):\n",
        "    # Batch 학습\n",
        "    model.train()\n",
        "    optimizer.zero_grad()\n",
        "    y_pred = model(x_batch)\n",
        "    y_pred = y_pred.reshape(-1)\n",
        "    loss_train = criterion(y_pred, y_batch)\n",
        "    loss_train.backward()\n",
        "    optimizer.step()\n",
        "\n",
        "    # Validation\n",
        "    model.eval()\n",
        "    y_test_pred = model(x_test_tensor)\n",
        "    y_test_pred = y_test_pred.reshape(-1)\n",
        "    loss_test = criterion(y_test_pred, y_test_tensor)\n",
        "\n",
        "  train_loss.append(loss_train.item())\n",
        "  test_loss.append(loss_test.item())\n",
        "  print(\"epoch:{}, Loss_train:{:.2f}, Loss_test:{:.2f}\".format(epoch, train_loss[-1], test_loss[-1]))"
      ],
      "metadata": {
        "colab": {
          "base_uri": "https://localhost:8080/"
        },
        "id": "bh_vt4eIOhzp",
        "outputId": "159174e3-c21f-4a88-c4f3-6cd43dd85cb4"
      },
      "execution_count": null,
      "outputs": [
        {
          "output_type": "stream",
          "name": "stdout",
          "text": [
            "epoch:0, Loss_train:0.38, Loss_test:0.58\n",
            "epoch:1, Loss_train:0.45, Loss_test:0.56\n",
            "epoch:2, Loss_train:0.86, Loss_test:0.57\n",
            "epoch:3, Loss_train:0.54, Loss_test:0.57\n",
            "epoch:4, Loss_train:0.43, Loss_test:0.56\n",
            "epoch:5, Loss_train:0.67, Loss_test:0.58\n",
            "epoch:6, Loss_train:0.42, Loss_test:0.56\n",
            "epoch:7, Loss_train:0.54, Loss_test:0.55\n",
            "epoch:8, Loss_train:0.53, Loss_test:0.55\n",
            "epoch:9, Loss_train:0.60, Loss_test:0.54\n",
            "epoch:10, Loss_train:0.52, Loss_test:0.57\n",
            "epoch:11, Loss_train:0.45, Loss_test:0.55\n",
            "epoch:12, Loss_train:0.44, Loss_test:0.57\n",
            "epoch:13, Loss_train:0.54, Loss_test:0.56\n",
            "epoch:14, Loss_train:0.35, Loss_test:0.56\n",
            "epoch:15, Loss_train:0.40, Loss_test:0.57\n",
            "epoch:16, Loss_train:0.48, Loss_test:0.56\n",
            "epoch:17, Loss_train:0.68, Loss_test:0.55\n",
            "epoch:18, Loss_train:0.35, Loss_test:0.57\n",
            "epoch:19, Loss_train:0.58, Loss_test:0.55\n",
            "epoch:20, Loss_train:0.40, Loss_test:0.55\n",
            "epoch:21, Loss_train:0.46, Loss_test:0.57\n",
            "epoch:22, Loss_train:0.43, Loss_test:0.56\n",
            "epoch:23, Loss_train:0.55, Loss_test:0.57\n",
            "epoch:24, Loss_train:0.57, Loss_test:0.58\n",
            "epoch:25, Loss_train:0.69, Loss_test:0.60\n",
            "epoch:26, Loss_train:0.63, Loss_test:0.55\n",
            "epoch:27, Loss_train:0.41, Loss_test:0.54\n",
            "epoch:28, Loss_train:0.80, Loss_test:0.57\n",
            "epoch:29, Loss_train:0.48, Loss_test:0.55\n",
            "epoch:30, Loss_train:0.53, Loss_test:0.56\n",
            "epoch:31, Loss_train:0.37, Loss_test:0.59\n",
            "epoch:32, Loss_train:0.57, Loss_test:0.57\n",
            "epoch:33, Loss_train:0.69, Loss_test:0.55\n",
            "epoch:34, Loss_train:0.47, Loss_test:0.56\n",
            "epoch:35, Loss_train:0.34, Loss_test:0.58\n",
            "epoch:36, Loss_train:0.58, Loss_test:0.56\n",
            "epoch:37, Loss_train:0.47, Loss_test:0.57\n",
            "epoch:38, Loss_train:0.60, Loss_test:0.58\n",
            "epoch:39, Loss_train:0.75, Loss_test:0.55\n",
            "epoch:40, Loss_train:0.60, Loss_test:0.56\n",
            "epoch:41, Loss_train:0.39, Loss_test:0.55\n",
            "epoch:42, Loss_train:0.71, Loss_test:0.56\n",
            "epoch:43, Loss_train:0.59, Loss_test:0.55\n",
            "epoch:44, Loss_train:0.65, Loss_test:0.58\n",
            "epoch:45, Loss_train:0.61, Loss_test:0.56\n",
            "epoch:46, Loss_train:0.54, Loss_test:0.57\n",
            "epoch:47, Loss_train:0.51, Loss_test:0.56\n",
            "epoch:48, Loss_train:0.52, Loss_test:0.55\n",
            "epoch:49, Loss_train:0.64, Loss_test:0.56\n",
            "epoch:50, Loss_train:0.47, Loss_test:0.58\n",
            "epoch:51, Loss_train:0.54, Loss_test:0.58\n",
            "epoch:52, Loss_train:0.62, Loss_test:0.56\n",
            "epoch:53, Loss_train:0.51, Loss_test:0.57\n",
            "epoch:54, Loss_train:0.50, Loss_test:0.55\n",
            "epoch:55, Loss_train:0.49, Loss_test:0.57\n",
            "epoch:56, Loss_train:0.37, Loss_test:0.55\n",
            "epoch:57, Loss_train:0.67, Loss_test:0.57\n",
            "epoch:58, Loss_train:0.60, Loss_test:0.56\n",
            "epoch:59, Loss_train:0.37, Loss_test:0.57\n",
            "epoch:60, Loss_train:0.39, Loss_test:0.56\n",
            "epoch:61, Loss_train:0.81, Loss_test:0.56\n",
            "epoch:62, Loss_train:0.54, Loss_test:0.57\n",
            "epoch:63, Loss_train:0.41, Loss_test:0.56\n",
            "epoch:64, Loss_train:0.63, Loss_test:0.55\n",
            "epoch:65, Loss_train:0.47, Loss_test:0.59\n",
            "epoch:66, Loss_train:1.02, Loss_test:0.55\n",
            "epoch:67, Loss_train:0.40, Loss_test:0.57\n",
            "epoch:68, Loss_train:0.74, Loss_test:0.59\n",
            "epoch:69, Loss_train:0.32, Loss_test:0.56\n",
            "epoch:70, Loss_train:0.48, Loss_test:0.57\n",
            "epoch:71, Loss_train:0.43, Loss_test:0.56\n",
            "epoch:72, Loss_train:0.49, Loss_test:0.56\n",
            "epoch:73, Loss_train:0.32, Loss_test:0.57\n",
            "epoch:74, Loss_train:0.43, Loss_test:0.56\n",
            "epoch:75, Loss_train:0.50, Loss_test:0.57\n",
            "epoch:76, Loss_train:0.43, Loss_test:0.56\n",
            "epoch:77, Loss_train:0.68, Loss_test:0.55\n",
            "epoch:78, Loss_train:0.59, Loss_test:0.58\n",
            "epoch:79, Loss_train:0.51, Loss_test:0.56\n",
            "epoch:80, Loss_train:0.53, Loss_test:0.56\n",
            "epoch:81, Loss_train:0.55, Loss_test:0.55\n",
            "epoch:82, Loss_train:0.67, Loss_test:0.58\n",
            "epoch:83, Loss_train:0.41, Loss_test:0.57\n",
            "epoch:84, Loss_train:0.68, Loss_test:0.56\n",
            "epoch:85, Loss_train:0.38, Loss_test:0.55\n",
            "epoch:86, Loss_train:0.42, Loss_test:0.56\n",
            "epoch:87, Loss_train:0.56, Loss_test:0.56\n",
            "epoch:88, Loss_train:1.04, Loss_test:0.56\n",
            "epoch:89, Loss_train:0.97, Loss_test:0.55\n",
            "epoch:90, Loss_train:0.84, Loss_test:0.56\n",
            "epoch:91, Loss_train:0.35, Loss_test:0.57\n",
            "epoch:92, Loss_train:0.43, Loss_test:0.58\n",
            "epoch:93, Loss_train:0.58, Loss_test:0.59\n",
            "epoch:94, Loss_train:0.55, Loss_test:0.59\n",
            "epoch:95, Loss_train:0.75, Loss_test:0.58\n",
            "epoch:96, Loss_train:0.94, Loss_test:0.55\n",
            "epoch:97, Loss_train:0.89, Loss_test:0.55\n",
            "epoch:98, Loss_train:0.48, Loss_test:0.56\n",
            "epoch:99, Loss_train:0.67, Loss_test:0.58\n",
            "epoch:100, Loss_train:0.51, Loss_test:0.55\n"
          ]
        }
      ]
    },
    {
      "cell_type": "code",
      "source": [
        "# Plot\n",
        "\n",
        "plt.figure()\n",
        "plt.plot(train_loss, label='train')\n",
        "plt.plot(test_loss, label='test')\n",
        "plt.title('Model loss')\n",
        "plt.legend(loc='upper right')\n",
        "plt.show()"
      ],
      "metadata": {
        "colab": {
          "base_uri": "https://localhost:8080/",
          "height": 452
        },
        "id": "mJ7hhv0oOhej",
        "outputId": "f52a80b0-fe5d-400b-88c4-fd50fcbb9851"
      },
      "execution_count": null,
      "outputs": [
        {
          "output_type": "display_data",
          "data": {
            "text/plain": [
              "<Figure size 640x480 with 1 Axes>"
            ],
            "image/png": "[encoded data removed]"
          },
          "metadata": {}
        }
      ]
    },
    {
      "cell_type": "code",
      "source": [
        "# Training result\n",
        "\n",
        "model.state_dict()"
      ],
      "metadata": {
        "colab": {
          "base_uri": "https://localhost:8080/"
        },
        "id": "ukJL4-2ohnlL",
        "outputId": "1980670e-ab93-43d9-e5c2-21ecc4fbfe57"
      },
      "execution_count": null,
      "outputs": [
        {
          "output_type": "execute_result",
          "data": {
            "text/plain": [
              "OrderedDict([('weight',\n",
              "              tensor([[ 0.8303,  0.1123, -0.2746,  0.2829, -0.0080, -0.0409, -0.9158, -0.8809]])),\n",
              "             ('bias', tensor([2.0615]))])"
            ]
          },
          "metadata": {},
          "execution_count": 83
        }
      ]
    },
    {
      "cell_type": "code",
      "source": [],
      "metadata": {
        "id": "Fnzw8N4nhnZf"
      },
      "execution_count": null,
      "outputs": []
    }
  ]
}
