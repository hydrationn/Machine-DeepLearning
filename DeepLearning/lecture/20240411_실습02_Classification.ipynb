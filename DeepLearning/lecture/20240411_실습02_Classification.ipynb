{
  "nbformat": 4,
  "nbformat_minor": 0,
  "metadata": {
    "colab": {
      "provenance": [],
      "authorship_tag": "ABX9TyMYcnDt7HqoLPaxt96vVtXn",
      "include_colab_link": true
    },
    "kernelspec": {
      "name": "python3",
      "display_name": "Python 3"
    },
    "language_info": {
      "name": "python"
    }
  },
  "cells": [
    {
      "cell_type": "markdown",
      "metadata": {
        "id": "view-in-github",
        "colab_type": "text"
      },
      "source": [
        "<a href=\"https://colab.research.google.com/github/hydrationn/Machine-DeepLearning/blob/main/DeepLearning/lecture/20240411_%EC%8B%A4%EC%8A%B502_Classification.ipynb\" target=\"_parent\"><img src=\"https://colab.research.google.com/assets/colab-badge.svg\" alt=\"Open In Colab\"/></a>"
      ]
    },
    {
      "cell_type": "code",
      "source": [
        "# Practice. DIGIT recognition"
      ],
      "metadata": {
        "id": "t_lmJ26_SiBO"
      },
      "execution_count": 10,
      "outputs": []
    },
    {
      "cell_type": "code",
      "source": [
        "# import package\n",
        "\n",
        "import torch\n",
        "import torch.nn as nn\n",
        "import torch.nn.functional as F\n",
        "from torch.utils.data import Dataset, DataLoader\n",
        "import torch.utils.data as data_utils\n",
        "import torchvision\n",
        "import torchvision.transforms as transforms\n",
        "\n",
        "import numpy as np\n",
        "import matplotlib.pyplot as plt\n",
        "import random"
      ],
      "metadata": {
        "id": "DaEIC9f2OcKN"
      },
      "execution_count": 2,
      "outputs": []
    },
    {
      "cell_type": "code",
      "source": [
        "# GPU/CPU setting\n",
        "\n",
        "device = 'cuda' if torch.cuda.is_available() else 'cpu'\n",
        "print(device)\n",
        "\n",
        "random.seed(777)\n",
        "torch.manual_seed(777)\n",
        "if device == 'cuda':\n",
        "  torch.cuda.manual_seed_all(777)"
      ],
      "metadata": {
        "colab": {
          "base_uri": "https://localhost:8080/",
          "height": 0
        },
        "id": "raT9jJKmOcHW",
        "outputId": "ebe66c1d-0f4d-4254-9179-9a8a59f39288"
      },
      "execution_count": 4,
      "outputs": [
        {
          "output_type": "stream",
          "name": "stdout",
          "text": [
            "cpu\n"
          ]
        }
      ]
    },
    {
      "cell_type": "code",
      "source": [
        "# import dataset\n",
        "\n",
        "train_dataset = torchvision.datasets.MNIST(root='./data', train=True, transform = transforms.ToTensor(), download=True)\n",
        "test_dataset = torchvision.datasets.MNIST(root='./data', train=False, transform = transforms.ToTensor(), download=True)"
      ],
      "metadata": {
        "colab": {
          "base_uri": "https://localhost:8080/",
          "height": 0
        },
        "id": "WCMUmWOORLLA",
        "outputId": "87ddd266-667c-43dc-f111-10488e014290"
      },
      "execution_count": 5,
      "outputs": [
        {
          "output_type": "stream",
          "name": "stdout",
          "text": [
            "Downloading http://yann.lecun.com/exdb/mnist/train-images-idx3-ubyte.gz\n",
            "Downloading http://yann.lecun.com/exdb/mnist/train-images-idx3-ubyte.gz to ./data/MNIST/raw/train-images-idx3-ubyte.gz\n"
          ]
        },
        {
          "output_type": "stream",
          "name": "stderr",
          "text": [
            "100%|██████████| 9912422/9912422 [00:00<00:00, 128704621.35it/s]\n"
          ]
        },
        {
          "output_type": "stream",
          "name": "stdout",
          "text": [
            "Extracting ./data/MNIST/raw/train-images-idx3-ubyte.gz to ./data/MNIST/raw\n",
            "\n",
            "Downloading http://yann.lecun.com/exdb/mnist/train-labels-idx1-ubyte.gz\n",
            "Downloading http://yann.lecun.com/exdb/mnist/train-labels-idx1-ubyte.gz to ./data/MNIST/raw/train-labels-idx1-ubyte.gz\n"
          ]
        },
        {
          "output_type": "stream",
          "name": "stderr",
          "text": [
            "100%|██████████| 28881/28881 [00:00<00:00, 31447480.22it/s]\n"
          ]
        },
        {
          "output_type": "stream",
          "name": "stdout",
          "text": [
            "Extracting ./data/MNIST/raw/train-labels-idx1-ubyte.gz to ./data/MNIST/raw\n",
            "\n",
            "Downloading http://yann.lecun.com/exdb/mnist/t10k-images-idx3-ubyte.gz\n",
            "Downloading http://yann.lecun.com/exdb/mnist/t10k-images-idx3-ubyte.gz to ./data/MNIST/raw/t10k-images-idx3-ubyte.gz\n"
          ]
        },
        {
          "output_type": "stream",
          "name": "stderr",
          "text": [
            "100%|██████████| 1648877/1648877 [00:00<00:00, 58801100.17it/s]"
          ]
        },
        {
          "output_type": "stream",
          "name": "stdout",
          "text": [
            "Extracting ./data/MNIST/raw/t10k-images-idx3-ubyte.gz to ./data/MNIST/raw\n"
          ]
        },
        {
          "output_type": "stream",
          "name": "stderr",
          "text": [
            "\n"
          ]
        },
        {
          "output_type": "stream",
          "name": "stdout",
          "text": [
            "\n",
            "Downloading http://yann.lecun.com/exdb/mnist/t10k-labels-idx1-ubyte.gz\n",
            "Downloading http://yann.lecun.com/exdb/mnist/t10k-labels-idx1-ubyte.gz to ./data/MNIST/raw/t10k-labels-idx1-ubyte.gz\n"
          ]
        },
        {
          "output_type": "stream",
          "name": "stderr",
          "text": [
            "100%|██████████| 4542/4542 [00:00<00:00, 4816821.43it/s]\n"
          ]
        },
        {
          "output_type": "stream",
          "name": "stdout",
          "text": [
            "Extracting ./data/MNIST/raw/t10k-labels-idx1-ubyte.gz to ./data/MNIST/raw\n",
            "\n"
          ]
        }
      ]
    },
    {
      "cell_type": "code",
      "source": [
        "# Batch generation\n",
        "\n",
        "batch_size = 100\n",
        "\n",
        "train_loader = DataLoader(dataset=train_dataset, batch_size=batch_size, shuffle=True)\n",
        "test_loader = DataLoader(dataset=test_dataset, batch_size=batch_size, shuffle=False)"
      ],
      "metadata": {
        "id": "7OHs1kCbOcEv"
      },
      "execution_count": 6,
      "outputs": []
    },
    {
      "cell_type": "code",
      "source": [
        "# Batch generation\n",
        "\n",
        "for i, data in enumerate(train_loader):\n",
        "  x,y = data\n",
        "  print(y.shape)\n",
        "  print(x.shape)\n",
        "  print(x[0].shape)\n",
        "  print(y[0])\n",
        "  plt.imshow(x[0][0].reshape(28,28), cmap='gray')\n",
        "  break"
      ],
      "metadata": {
        "colab": {
          "base_uri": "https://localhost:8080/",
          "height": 501
        },
        "id": "zcPCD4LGOcCI",
        "outputId": "f410c155-19f9-42c0-beda-b9fc3921df70"
      },
      "execution_count": 9,
      "outputs": [
        {
          "output_type": "stream",
          "name": "stdout",
          "text": [
            "torch.Size([100])\n",
            "torch.Size([100, 1, 28, 28])\n",
            "torch.Size([1, 28, 28])\n",
            "tensor(4)\n"
          ]
        },
        {
          "output_type": "display_data",
          "data": {
            "text/plain": [
              "<Figure size 640x480 with 1 Axes>"
            ],
            "image/png": "[encoded data removed]"
          },
          "metadata": {}
        }
      ]
    },
    {
      "cell_type": "code",
      "source": [
        "# Model\n",
        "\n",
        "class MLP_model(torch.nn.Module):\n",
        "  def __init__(self, input_size, num_classes):\n",
        "    super(MLP_model, self).__init__()\n",
        "    self.input_size = input_size\n",
        "    self.num_classes = num_classes\n",
        "    self.fc1 = torch.nn.Linear(input_size, 256)\n",
        "    self.fc2 = torch.nn.Linear(256, 256)\n",
        "    self.fc3 = torch.nn.Linear(256, num_classes)\n",
        "    self.relu = torch.nn.ReLU()\n",
        "\n",
        "  def forward(self, x):\n",
        "\n",
        "    fc1 = self.fc1(x)\n",
        "    ac1 = self.relu(fc1)\n",
        "\n",
        "    fc2 = self.fc2(ac1)\n",
        "    ac2 = self.relu(fc2)\n",
        "\n",
        "    output = self.fc3(ac2)\n",
        "\n",
        "    return output"
      ],
      "metadata": {
        "id": "e58XEgvxOb_i"
      },
      "execution_count": 11,
      "outputs": []
    },
    {
      "cell_type": "code",
      "source": [
        "# Parameter\n",
        "\n",
        "# 파라미터 정의\n",
        "input_size = 784 #28*28\n",
        "num_classes = 10\n",
        "num_epochs = 5\n",
        "learning_rate = 0.1"
      ],
      "metadata": {
        "id": "NHTY2wKMOb9L"
      },
      "execution_count": 12,
      "outputs": []
    },
    {
      "cell_type": "code",
      "source": [
        "# Model\n",
        "\n",
        "# 모델 정의\n",
        "model = MLP_model(input_size, num_classes).to(device)\n",
        "criterion = nn.CrossEntropyLoss()\n",
        "optimizer = torch.optim.SGD(model.parameters(), lr=learning_rate)"
      ],
      "metadata": {
        "id": "LMfOu_mGOb6W"
      },
      "execution_count": 14,
      "outputs": []
    },
    {
      "cell_type": "code",
      "execution_count": 15,
      "metadata": {
        "colab": {
          "base_uri": "https://localhost:8080/",
          "height": 0
        },
        "id": "Bj2uhcUTOLZ3",
        "outputId": "078153e1-66fb-41fe-8b74-b8825b4802e7"
      },
      "outputs": [
        {
          "output_type": "stream",
          "name": "stdout",
          "text": [
            "Epoch 1 Loss 0.58536\n",
            "Epoch 2 Loss 0.23130\n",
            "Epoch 3 Loss 0.16247\n",
            "Epoch 4 Loss 0.12612\n",
            "Epoch 5 Loss 0.10145\n"
          ]
        }
      ],
      "source": [
        "# Train\n",
        "\n",
        "# Model Train\n",
        "loss_list = []\n",
        "for epoch_num in range(num_epochs):\n",
        "  average_cost = 0\n",
        "\n",
        "  for batch_idx, (x_data, y_label) in enumerate(train_loader):\n",
        "    num_of_mini_batch = len(train_loader)\n",
        "    x_data = x_data.reshape(-1, 28*28)\n",
        "    input_image = x_data.to(device)\n",
        "    label = y_label.to(device)\n",
        "    optimizer.zero_grad()\n",
        "    y_predict = model(input_image)\n",
        "    loss = criterion(y_predict, label)\n",
        "    loss.backward()\n",
        "    optimizer.step()\n",
        "\n",
        "    average_cost = average_cost + (loss.item()/num_of_mini_batch)\n",
        "    loss_list.append(loss)\n",
        "\n",
        "  print(\"Epoch {} Loss {:.5f}\".format((epoch_num+1), average_cost))"
      ]
    },
    {
      "cell_type": "code",
      "source": [
        "# Validation\n",
        "\n",
        "with torch.no_grad():\n",
        "  num_total_data = 0\n",
        "  correct = 0\n",
        "  for batch_idx, (images, labels) in enumerate(test_loader):\n",
        "\n",
        "    images = images.reshape(-1, 28*28)\n",
        "    images = images.to(device)\n",
        "    labels = labels.to(device)\n",
        "    outputs = model(images)\n",
        "    outputs_softmax = F.softmax(outputs, dim=1)\n",
        "    predicted = torch.argmax(outputs_softmax, dim=1)\n",
        "\n",
        "    num_total_data += len(images)\n",
        "    answer = sum(labels==predicted).item()\n",
        "    correct += answer\n",
        "\n",
        "print(\"Model accuracy {:.5f}%\".format((correct/num_total_data)*100))"
      ],
      "metadata": {
        "colab": {
          "base_uri": "https://localhost:8080/",
          "height": 0
        },
        "id": "3OmbFqKAV2oV",
        "outputId": "5b993ccd-c22a-4b76-b96c-fbea43a72855"
      },
      "execution_count": 17,
      "outputs": [
        {
          "output_type": "stream",
          "name": "stdout",
          "text": [
            "Model accuracy 97.03000%\n"
          ]
        }
      ]
    },
    {
      "cell_type": "code",
      "source": [],
      "metadata": {
        "id": "oKHYC4oAXvFY"
      },
      "execution_count": null,
      "outputs": []
    },
    {
      "cell_type": "code",
      "source": [
        "# Practice 2. DIGIT recognition with sequential API"
      ],
      "metadata": {
        "id": "jZXEf6YZXuzc"
      },
      "execution_count": 19,
      "outputs": []
    },
    {
      "cell_type": "code",
      "source": [
        "# Model\n",
        "\n",
        "# 모델 정의\n",
        "linear1 = nn.Linear(784, 256)\n",
        "linear2 = nn.Linear(256, 64)\n",
        "linear3 = nn.Linear(64, 10)\n",
        "relu = torch.nn.ReLU()\n",
        "\n",
        "model = torch.nn.Sequential(linear1, relu, linear2, relu, linear3)\n",
        "model = model.to(device)"
      ],
      "metadata": {
        "id": "pK8I80o1V2l_"
      },
      "execution_count": 20,
      "outputs": []
    },
    {
      "cell_type": "code",
      "source": [
        "# Parameter, loss function, optimizer\n",
        "\n",
        "# 파라미터, 손실함수, optimizer 정의\n",
        "epoch = 5\n",
        "learning_rate = 0.01\n",
        "criterion = nn.CrossEntropyLoss()\n",
        "optimizer = torch.optim.SGD(model.parameters(), lr=learning_rate)"
      ],
      "metadata": {
        "id": "6l3-iHqtV2Ny"
      },
      "execution_count": 21,
      "outputs": []
    },
    {
      "cell_type": "code",
      "source": [
        "# Train\n",
        "\n",
        "# Model Train\n",
        "loss_list = []\n",
        "for epoch_num in range(num_epochs):\n",
        "  average_cost = 0\n",
        "\n",
        "  for batch_idx, (x_data, y_label) in enumerate(train_loader):\n",
        "    num_of_mini_batch = len(train_loader)\n",
        "    x_data = x_data.reshape(-1, 28*28)\n",
        "    input_image = x_data.to(device)\n",
        "    label = y_label.to(device)\n",
        "    optimizer.zero_grad()\n",
        "    y_predict = model(input_image)\n",
        "    loss = criterion(y_predict, label)\n",
        "    loss.backward()\n",
        "    optimizer.step()\n",
        "\n",
        "    average_cost = average_cost + (loss.item()/num_of_mini_batch)\n",
        "    loss_list.append(loss)\n",
        "\n",
        "  print(\"Epoch {} Loss {:.5f}\".format((epoch_num+1), average_cost))"
      ],
      "metadata": {
        "colab": {
          "base_uri": "https://localhost:8080/",
          "height": 0
        },
        "id": "fZjm9aRwV2BS",
        "outputId": "1a8ee11e-9914-43a3-f6f9-49928a85a0ba"
      },
      "execution_count": 22,
      "outputs": [
        {
          "output_type": "stream",
          "name": "stdout",
          "text": [
            "Epoch 1 Loss 2.06162\n",
            "Epoch 2 Loss 0.93575\n",
            "Epoch 3 Loss 0.52100\n",
            "Epoch 4 Loss 0.41511\n",
            "Epoch 5 Loss 0.36918\n"
          ]
        }
      ]
    },
    {
      "cell_type": "code",
      "source": [
        "# Validation\n",
        "\n",
        "with torch.no_grad():\n",
        "  num_total_data = 0\n",
        "  correct = 0\n",
        "  for batch_idx, (images, labels) in enumerate(test_loader):\n",
        "\n",
        "    images = images.reshape(-1, 28*28)\n",
        "    images = images.to(device)\n",
        "    labels = labels.to(device)\n",
        "    outputs = model(images)\n",
        "    outputs_softmax = F.softmax(outputs, dim=1)\n",
        "    predicted = torch.argmax(outputs_softmax, dim=1)\n",
        "\n",
        "    num_total_data += len(images)\n",
        "    answer = sum(labels==predicted).item()\n",
        "    correct += answer\n",
        "\n",
        "print(\"Model accuracy {:.5f}%\".format((correct/num_total_data)*100))"
      ],
      "metadata": {
        "colab": {
          "base_uri": "https://localhost:8080/",
          "height": 0
        },
        "id": "3WkuXPDtYfn4",
        "outputId": "7eb29d70-d3ac-4880-bb07-4752744b1c0a"
      },
      "execution_count": 23,
      "outputs": [
        {
          "output_type": "stream",
          "name": "stdout",
          "text": [
            "Model accuracy 90.48000%\n"
          ]
        }
      ]
    },
    {
      "cell_type": "code",
      "source": [],
      "metadata": {
        "id": "wA_9erLTYrpI"
      },
      "execution_count": null,
      "outputs": []
    }
  ]
}