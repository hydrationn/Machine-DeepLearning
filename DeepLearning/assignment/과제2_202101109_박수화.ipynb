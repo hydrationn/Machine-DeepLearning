{
  "nbformat": 4,
  "nbformat_minor": 0,
  "metadata": {
    "colab": {
      "provenance": [],
      "authorship_tag": "ABX9TyNN2iwEZsGEV7AnzSDEE4Mh",
      "include_colab_link": true
    },
    "kernelspec": {
      "name": "python3",
      "display_name": "Python 3"
    },
    "language_info": {
      "name": "python"
    }
  },
  "cells": [
    {
      "cell_type": "markdown",
      "metadata": {
        "id": "view-in-github",
        "colab_type": "text"
      },
      "source": [
        "<a href=\"https://colab.research.google.com/github/hydrationn/Machine-DeepLearning/blob/main/DeepLearning/assignment/%EA%B3%BC%EC%A0%9C2_202101109_%E1%84%87%E1%85%A1%E1%86%A8%E1%84%89%E1%85%AE%E1%84%92%E1%85%AA.ipynb\" target=\"_parent\"><img src=\"https://colab.research.google.com/assets/colab-badge.svg\" alt=\"Open In Colab\"/></a>"
      ]
    },
    {
      "cell_type": "code",
      "source": [
        "# Model 1. 사용자 정의 MLP 모델 변경\n",
        "\n",
        "# activation function: ReLU -> LeakyReLU 사용\n",
        "# hidden layer 수 및 node 수 변경"
      ],
      "metadata": {
        "id": "FiZuHz58U308"
      },
      "execution_count": null,
      "outputs": []
    },
    {
      "cell_type": "code",
      "source": [
        "# import package\n",
        "\n",
        "import torch\n",
        "import torch.nn as nn\n",
        "import torch.nn.functional as F\n",
        "from torch.utils.data import Dataset, DataLoader\n",
        "import torch.utils.data as data_utils\n",
        "import torchvision\n",
        "import torchvision.transforms as transforms\n",
        "\n",
        "import numpy as np\n",
        "import matplotlib.pyplot as plt\n",
        "import random"
      ],
      "metadata": {
        "id": "2VMCC1-dUpkY"
      },
      "execution_count": null,
      "outputs": []
    },
    {
      "cell_type": "code",
      "source": [
        "# GPU/CPU setting\n",
        "\n",
        "device = 'cuda' if torch.cuda.is_available() else 'cpu'\n",
        "print(device)\n",
        "\n",
        "random.seed(777)\n",
        "torch.manual_seed(777)\n",
        "if device == 'cuda':\n",
        "  torch.cuda.manual_seed_all(777)"
      ],
      "metadata": {
        "colab": {
          "base_uri": "https://localhost:8080/"
        },
        "id": "_PDNe3xMUphy",
        "outputId": "38956447-1a5d-4dbd-94da-3cf9f9fdad72"
      },
      "execution_count": null,
      "outputs": [
        {
          "output_type": "stream",
          "name": "stdout",
          "text": [
            "cpu\n"
          ]
        }
      ]
    },
    {
      "cell_type": "code",
      "source": [
        "# import dataset\n",
        "\n",
        "train_dataset = torchvision.datasets.MNIST(root='./data', train=True, transform = transforms.ToTensor(), download=True)\n",
        "test_dataset = torchvision.datasets.MNIST(root='./data', train=False, transform = transforms.ToTensor(), download=True)"
      ],
      "metadata": {
        "id": "zJ-AWktvUpfd"
      },
      "execution_count": null,
      "outputs": []
    },
    {
      "cell_type": "code",
      "source": [
        "# Batch generation\n",
        "\n",
        "batch_size = 100\n",
        "\n",
        "train_loader = DataLoader(dataset=train_dataset, batch_size=batch_size, shuffle=True)\n",
        "test_loader = DataLoader(dataset=test_dataset, batch_size=batch_size, shuffle=False)"
      ],
      "metadata": {
        "id": "S4VkU96rUpcm"
      },
      "execution_count": null,
      "outputs": []
    },
    {
      "cell_type": "code",
      "source": [
        "# Batch generation\n",
        "\n",
        "for i, data in enumerate(train_loader):\n",
        "  x,y = data\n",
        "  print(y.shape)\n",
        "  print(x.shape)\n",
        "  print(x[0].shape)\n",
        "  print(y[0])\n",
        "  plt.imshow(x[0][0].reshape(28,28), cmap='gray')\n",
        "  break"
      ],
      "metadata": {
        "colab": {
          "base_uri": "https://localhost:8080/",
          "height": 501
        },
        "id": "ZmlBCymPS-6g",
        "outputId": "0f952576-d952-415b-c91b-c66f10163301"
      },
      "execution_count": null,
      "outputs": [
        {
          "output_type": "stream",
          "name": "stdout",
          "text": [
            "torch.Size([100])\n",
            "torch.Size([100, 1, 28, 28])\n",
            "torch.Size([1, 28, 28])\n",
            "tensor(0)\n"
          ]
        },
        {
          "output_type": "display_data",
          "data": {
            "text/plain": [
              "<Figure size 640x480 with 1 Axes>"
            ],
            "image/png": "[encoded data removed]"
          },
          "metadata": {}
        }
      ]
    },
    {
      "cell_type": "code",
      "source": [
        "# Model\n",
        "\n",
        "class CustomMLPModel(torch.nn.Module):\n",
        "    def __init__(self):\n",
        "        super(CustomMLPModel, self).__init__()\n",
        "        self.fc1 = torch.nn.Linear(784, 512)  # 입력 노드 수 변경: 256 -> 512\n",
        "        self.fc2 = torch.nn.Linear(512, 128)  # 새로운 hidden layer 추가\n",
        "        self.fc3 = torch.nn.Linear(128, 10)\n",
        "        self.leaky_relu = torch.nn.LeakyReLU()  # activation function 변경\n",
        "\n",
        "    def forward(self, x):\n",
        "        x = self.leaky_relu(self.fc1(x))\n",
        "        x = self.leaky_relu(self.fc2(x))\n",
        "        return self.fc3(x)"
      ],
      "metadata": {
        "id": "gfsDeWGwS-37"
      },
      "execution_count": null,
      "outputs": []
    },
    {
      "cell_type": "code",
      "source": [
        "# Parameter\n",
        "\n",
        "# 파라미터 정의\n",
        "input_size = 784 #28*28\n",
        "num_classes = 10\n",
        "num_epochs = 5\n",
        "learning_rate = 0.1"
      ],
      "metadata": {
        "id": "NFn2O-FESX72"
      },
      "execution_count": null,
      "outputs": []
    },
    {
      "cell_type": "code",
      "source": [
        "# Model\n",
        "\n",
        "# 모델 정의\n",
        "model = CustomMLPModel().to(device)\n",
        "criterion = nn.CrossEntropyLoss()\n",
        "optimizer = torch.optim.SGD(model.parameters(), lr=learning_rate)"
      ],
      "metadata": {
        "id": "StIvTy-vVgzV"
      },
      "execution_count": null,
      "outputs": []
    },
    {
      "cell_type": "code",
      "source": [
        "# Train\n",
        "\n",
        "# Model Train\n",
        "loss_list = []\n",
        "for epoch_num in range(num_epochs):\n",
        "  average_cost = 0\n",
        "\n",
        "  for batch_idx, (x_data, y_label) in enumerate(train_loader):\n",
        "    num_of_mini_batch = len(train_loader)\n",
        "    x_data = x_data.reshape(-1, 28*28)\n",
        "    input_image = x_data.to(device)\n",
        "    label = y_label.to(device)\n",
        "    optimizer.zero_grad()\n",
        "    y_predict = model(input_image)\n",
        "    loss = criterion(y_predict, label)\n",
        "    loss.backward()\n",
        "    optimizer.step()\n",
        "\n",
        "    average_cost = average_cost + (loss.item()/num_of_mini_batch)\n",
        "    loss_list.append(loss)\n",
        "\n",
        "  print(\"Epoch {} Loss {:.5f}\".format((epoch_num+1), average_cost))"
      ],
      "metadata": {
        "colab": {
          "base_uri": "https://localhost:8080/"
        },
        "id": "WrnJWXqWVqje",
        "outputId": "1356d77b-996c-4b0a-d4cb-90595b4792f5"
      },
      "execution_count": null,
      "outputs": [
        {
          "output_type": "stream",
          "name": "stdout",
          "text": [
            "Epoch 1 Loss 0.58185\n",
            "Epoch 2 Loss 0.22452\n",
            "Epoch 3 Loss 0.15856\n",
            "Epoch 4 Loss 0.12054\n",
            "Epoch 5 Loss 0.09598\n"
          ]
        }
      ]
    },
    {
      "cell_type": "code",
      "source": [
        "# Validation\n",
        "\n",
        "with torch.no_grad():\n",
        "  num_total_data = 0\n",
        "  correct = 0\n",
        "  for batch_idx, (images, labels) in enumerate(test_loader):\n",
        "\n",
        "    images = images.reshape(-1, 28*28)\n",
        "    images = images.to(device)\n",
        "    labels = labels.to(device)\n",
        "    outputs = model(images)\n",
        "    outputs_softmax = F.softmax(outputs, dim=1)\n",
        "    predicted = torch.argmax(outputs_softmax, dim=1)\n",
        "\n",
        "    num_total_data += len(images)\n",
        "    answer = sum(labels==predicted).item()\n",
        "    correct += answer\n",
        "\n",
        "print(\"Model accuracy {:.5f}%\".format((correct/num_total_data)*100))"
      ],
      "metadata": {
        "colab": {
          "base_uri": "https://localhost:8080/"
        },
        "id": "n-X2kh5nVuP9",
        "outputId": "0f83febf-c3b0-44c3-fa92-12631786755f"
      },
      "execution_count": null,
      "outputs": [
        {
          "output_type": "stream",
          "name": "stdout",
          "text": [
            "Model accuracy 96.96000%\n"
          ]
        }
      ]
    },
    {
      "cell_type": "code",
      "source": [],
      "metadata": {
        "id": "IruH8bweV4Th"
      },
      "execution_count": null,
      "outputs": []
    },
    {
      "cell_type": "code",
      "source": [
        "# Model 2. Sequential API 사용\n",
        "\n",
        "# activaion function: Sigmoid 사용\n",
        "# hidden layer 수 및 node 수 변경"
      ],
      "metadata": {
        "id": "PIRZlMuLV4RG"
      },
      "execution_count": null,
      "outputs": []
    },
    {
      "cell_type": "code",
      "source": [
        "# Model\n",
        "\n",
        "model = torch.nn.Sequential(\n",
        "    nn.Linear(784, 512),\n",
        "    nn.Sigmoid(),\n",
        "    nn.Linear(512, 128),\n",
        "    nn.Sigmoid(),\n",
        "    nn.Linear(128, 10)\n",
        ").to(device)"
      ],
      "metadata": {
        "id": "eAHiexGyWJ36"
      },
      "execution_count": null,
      "outputs": []
    },
    {
      "cell_type": "code",
      "source": [
        "# Parameter\n",
        "\n",
        "epoch = 5\n",
        "learning_rate = 0.01"
      ],
      "metadata": {
        "id": "_UXlfzoYWaeQ"
      },
      "execution_count": null,
      "outputs": []
    },
    {
      "cell_type": "code",
      "source": [
        "# Model\n",
        "\n",
        "# 모델 정의\n",
        "criterion = nn.CrossEntropyLoss()\n",
        "optimizer = torch.optim.SGD(model.parameters(), lr=learning_rate)"
      ],
      "metadata": {
        "id": "k-EBwN3AWprf"
      },
      "execution_count": null,
      "outputs": []
    },
    {
      "cell_type": "code",
      "source": [
        "# Train\n",
        "\n",
        "# Model Train\n",
        "loss_list = []\n",
        "for epoch_num in range(num_epochs):\n",
        "  average_cost = 0\n",
        "\n",
        "  for batch_idx, (x_data, y_label) in enumerate(train_loader):\n",
        "    num_of_mini_batch = len(train_loader)\n",
        "    x_data = x_data.reshape(-1, 28*28)\n",
        "    input_image = x_data.to(device)\n",
        "    label = y_label.to(device)\n",
        "    optimizer.zero_grad()\n",
        "    y_predict = model(input_image)\n",
        "    loss = criterion(y_predict, label)\n",
        "    loss.backward()\n",
        "    optimizer.step()\n",
        "\n",
        "    average_cost = average_cost + (loss.item()/num_of_mini_batch)\n",
        "    loss_list.append(loss)\n",
        "\n",
        "  print(\"Epoch {} Loss {:.5f}\".format((epoch_num+1), average_cost))"
      ],
      "metadata": {
        "colab": {
          "base_uri": "https://localhost:8080/"
        },
        "id": "sdP1q7UUWpo6",
        "outputId": "ada86129-5dde-4cce-a468-c818bc56f62b"
      },
      "execution_count": null,
      "outputs": [
        {
          "output_type": "stream",
          "name": "stdout",
          "text": [
            "Epoch 1 Loss 0.36631\n",
            "Epoch 2 Loss 0.34690\n",
            "Epoch 3 Loss 0.33268\n",
            "Epoch 4 Loss 0.31977\n",
            "Epoch 5 Loss 0.30892\n"
          ]
        }
      ]
    },
    {
      "cell_type": "code",
      "source": [
        "# Validation\n",
        "\n",
        "with torch.no_grad():\n",
        "  num_total_data = 0\n",
        "  correct = 0\n",
        "  for batch_idx, (images, labels) in enumerate(test_loader):\n",
        "\n",
        "    images = images.reshape(-1, 28*28)\n",
        "    images = images.to(device)\n",
        "    labels = labels.to(device)\n",
        "    outputs = model(images)\n",
        "    outputs_softmax = F.softmax(outputs, dim=1)\n",
        "    predicted = torch.argmax(outputs_softmax, dim=1)\n",
        "\n",
        "    num_total_data += len(images)\n",
        "    answer = sum(labels==predicted).item()\n",
        "    correct += answer\n",
        "\n",
        "print(\"Model accuracy {:.5f}%\".format((correct/num_total_data)*100))"
      ],
      "metadata": {
        "colab": {
          "base_uri": "https://localhost:8080/"
        },
        "id": "Mtv0rbDeWym2",
        "outputId": "3ba74137-b446-4ef6-9c3a-793267bb8ea1"
      },
      "execution_count": null,
      "outputs": [
        {
          "output_type": "stream",
          "name": "stdout",
          "text": [
            "Model accuracy 89.52000%\n"
          ]
        }
      ]
    },
    {
      "cell_type": "code",
      "source": [],
      "metadata": {
        "id": "GhcZ2c5qXAC6"
      },
      "execution_count": null,
      "outputs": []
    }
  ]
}