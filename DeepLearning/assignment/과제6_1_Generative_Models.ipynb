{
  "nbformat": 4,
  "nbformat_minor": 0,
  "metadata": {
    "colab": {
      "provenance": [],
      "gpuType": "T4",
      "authorship_tag": "ABX9TyPG5VIphIExVIKXqLI5xybi",
      "include_colab_link": true
    },
    "kernelspec": {
      "name": "python3",
      "display_name": "Python 3"
    },
    "language_info": {
      "name": "python"
    },
    "accelerator": "GPU"
  },
  "cells": [
    {
      "cell_type": "markdown",
      "metadata": {
        "id": "view-in-github",
        "colab_type": "text"
      },
      "source": [
        "<a href=\"https://colab.research.google.com/github/hydrationn/Machine-DeepLearning/blob/main/DeepLearning/assignment/%EA%B3%BC%EC%A0%9C6_1_Generative_Models.ipynb\" target=\"_parent\"><img src=\"https://colab.research.google.com/assets/colab-badge.svg\" alt=\"Open In Colab\"/></a>"
      ]
    },
    {
      "cell_type": "code",
      "execution_count": 1,
      "metadata": {
        "id": "Ky5rsBU-X12i"
      },
      "outputs": [],
      "source": [
        "# Autoencoder"
      ]
    },
    {
      "cell_type": "code",
      "source": [
        "# Import package\n",
        "\n",
        "import torch\n",
        "import torch.nn as nn\n",
        "import torch.nn.functional as F\n",
        "from torch.utils.data import Dataset, DataLoader\n",
        "import torch.utils.data as data_utils\n",
        "import torchvision\n",
        "import torchvision.datasets as datasets\n",
        "import torchvision.transforms as transforms\n",
        "\n",
        "import numpy as np\n",
        "import matplotlib.pyplot as plt\n",
        "import random"
      ],
      "metadata": {
        "id": "jxxkr3amYvnU"
      },
      "execution_count": 2,
      "outputs": []
    },
    {
      "cell_type": "code",
      "source": [
        "# GPU/CPU setting\n",
        "\n",
        "device = 'cuda' if torch.cuda.is_available() else 'cpu'\n",
        "print(device)\n",
        "\n",
        "random.seed(777)\n",
        "torch.manual_seed(777)\n",
        "if device == 'cuda':\n",
        "  torch.cuda.manual_seed_all(777)"
      ],
      "metadata": {
        "colab": {
          "base_uri": "https://localhost:8080/"
        },
        "id": "qmpWUvh8Y0vx",
        "outputId": "326ea465-916f-4218-d496-1ca207c566ed"
      },
      "execution_count": 3,
      "outputs": [
        {
          "output_type": "stream",
          "name": "stdout",
          "text": [
            "cuda\n"
          ]
        }
      ]
    },
    {
      "cell_type": "code",
      "source": [
        "# import dataset\n",
        "\n",
        "fashion_train = datasets.FashionMNIST(\"../image_data/FashionMNIST\", train=True, download=True, transform=transforms.ToTensor())\n",
        "fashion_test = datasets.FashionMNIST(\"../image_data/FashionMNIST\", train=False, download=True, transform=transforms.ToTensor())\n",
        "\n",
        "fashion_train.data = fashion_train.data/255.0\n",
        "fashion_train.targets = fashion_train.targets\n",
        "fashion_test.data = fashion_test.data/255.0\n",
        "fashion_test.targets = fashion_test.targets"
      ],
      "metadata": {
        "colab": {
          "base_uri": "https://localhost:8080/"
        },
        "id": "O-y3Bq8BY0sZ",
        "outputId": "019c8cc5-6ee8-4bb5-9c40-d548b1e55881"
      },
      "execution_count": 4,
      "outputs": [
        {
          "output_type": "stream",
          "name": "stdout",
          "text": [
            "Downloading http://fashion-mnist.s3-website.eu-central-1.amazonaws.com/train-images-idx3-ubyte.gz\n",
            "Downloading http://fashion-mnist.s3-website.eu-central-1.amazonaws.com/train-images-idx3-ubyte.gz to ../image_data/FashionMNIST/FashionMNIST/raw/train-images-idx3-ubyte.gz\n"
          ]
        },
        {
          "output_type": "stream",
          "name": "stderr",
          "text": [
            "100%|██████████| 26421880/26421880 [00:05<00:00, 4526979.20it/s] \n"
          ]
        },
        {
          "output_type": "stream",
          "name": "stdout",
          "text": [
            "Extracting ../image_data/FashionMNIST/FashionMNIST/raw/train-images-idx3-ubyte.gz to ../image_data/FashionMNIST/FashionMNIST/raw\n",
            "\n",
            "Downloading http://fashion-mnist.s3-website.eu-central-1.amazonaws.com/train-labels-idx1-ubyte.gz\n",
            "Downloading http://fashion-mnist.s3-website.eu-central-1.amazonaws.com/train-labels-idx1-ubyte.gz to ../image_data/FashionMNIST/FashionMNIST/raw/train-labels-idx1-ubyte.gz\n"
          ]
        },
        {
          "output_type": "stream",
          "name": "stderr",
          "text": [
            "100%|██████████| 29515/29515 [00:00<00:00, 270869.95it/s]\n"
          ]
        },
        {
          "output_type": "stream",
          "name": "stdout",
          "text": [
            "Extracting ../image_data/FashionMNIST/FashionMNIST/raw/train-labels-idx1-ubyte.gz to ../image_data/FashionMNIST/FashionMNIST/raw\n",
            "\n",
            "Downloading http://fashion-mnist.s3-website.eu-central-1.amazonaws.com/t10k-images-idx3-ubyte.gz\n",
            "Downloading http://fashion-mnist.s3-website.eu-central-1.amazonaws.com/t10k-images-idx3-ubyte.gz to ../image_data/FashionMNIST/FashionMNIST/raw/t10k-images-idx3-ubyte.gz\n"
          ]
        },
        {
          "output_type": "stream",
          "name": "stderr",
          "text": [
            "100%|██████████| 4422102/4422102 [00:00<00:00, 5080743.45it/s]\n"
          ]
        },
        {
          "output_type": "stream",
          "name": "stdout",
          "text": [
            "Extracting ../image_data/FashionMNIST/FashionMNIST/raw/t10k-images-idx3-ubyte.gz to ../image_data/FashionMNIST/FashionMNIST/raw\n",
            "\n",
            "Downloading http://fashion-mnist.s3-website.eu-central-1.amazonaws.com/t10k-labels-idx1-ubyte.gz\n",
            "Downloading http://fashion-mnist.s3-website.eu-central-1.amazonaws.com/t10k-labels-idx1-ubyte.gz to ../image_data/FashionMNIST/FashionMNIST/raw/t10k-labels-idx1-ubyte.gz\n"
          ]
        },
        {
          "output_type": "stream",
          "name": "stderr",
          "text": [
            "100%|██████████| 5148/5148 [00:00<00:00, 5394023.73it/s]\n"
          ]
        },
        {
          "output_type": "stream",
          "name": "stdout",
          "text": [
            "Extracting ../image_data/FashionMNIST/FashionMNIST/raw/t10k-labels-idx1-ubyte.gz to ../image_data/FashionMNIST/FashionMNIST/raw\n",
            "\n"
          ]
        }
      ]
    },
    {
      "cell_type": "code",
      "source": [
        "# Import dataset\n",
        "\n",
        "plt.imshow(fashion_train.data[1], cmap=\"gray\")\n",
        "print(fashion_train.targets[1])"
      ],
      "metadata": {
        "colab": {
          "base_uri": "https://localhost:8080/",
          "height": 448
        },
        "id": "BkTQXT69Y0ph",
        "outputId": "182efe5b-2843-4f03-e1fd-52b904af231f"
      },
      "execution_count": 5,
      "outputs": [
        {
          "output_type": "stream",
          "name": "stdout",
          "text": [
            "tensor(0)\n"
          ]
        },
        {
          "output_type": "display_data",
          "data": {
            "text/plain": [
              "<Figure size 640x480 with 1 Axes>"
            ],
            "image/png": "[encoded data removed]"
          },
          "metadata": {}
        }
      ]
    },
    {
      "cell_type": "code",
      "source": [
        "# Batch generation\n",
        "\n",
        "batch_size = 256\n",
        "\n",
        "train_loader = torch.utils.data.DataLoader(fashion_train.data, batch_size=batch_size, shuffle=True, drop_last=False)\n",
        "test_loader = torch.utils.data.DataLoader(fashion_test.data, batch_size=len(fashion_test.data), shuffle=False, drop_last=False)"
      ],
      "metadata": {
        "id": "Dfc1Vu7IY0m7"
      },
      "execution_count": 6,
      "outputs": []
    },
    {
      "cell_type": "code",
      "source": [
        "class Autoencoder(nn.Module):\n",
        "    def __init__(self):\n",
        "        super(Autoencoder, self).__init__()\n",
        "        # Encoder\n",
        "        self.encoder = nn.Sequential(\n",
        "            nn.Linear(28*28, 128),\n",
        "            nn.ReLU(True),\n",
        "            nn.Linear(128, 64),\n",
        "            nn.ReLU(True),\n",
        "            nn.Linear(64, 16),\n",
        "        )\n",
        "        # Decoder\n",
        "        self.decoder = nn.Sequential(\n",
        "            nn.Linear(16, 64),\n",
        "            nn.ReLU(True),\n",
        "            nn.Linear(64, 128),\n",
        "            nn.ReLU(True),\n",
        "            nn.Linear(128, 28*28),\n",
        "            nn.Sigmoid()\n",
        "        )\n",
        "\n",
        "    def forward(self, x):\n",
        "        z = self.encoder(x)\n",
        "        reconstructed = self.decoder(z)\n",
        "        return reconstructed"
      ],
      "metadata": {
        "id": "BGsY9eNGY0kG"
      },
      "execution_count": 7,
      "outputs": []
    },
    {
      "cell_type": "code",
      "source": [
        "model = Autoencoder().to(device)"
      ],
      "metadata": {
        "id": "vDNS1hWKY0bv"
      },
      "execution_count": 8,
      "outputs": []
    },
    {
      "cell_type": "code",
      "source": [
        "# Parameter, loss function, optimizer\n",
        "\n",
        "# Hyperparameters\n",
        "\n",
        "num_epochs = 10\n",
        "learning_rate = 0.001\n",
        "\n",
        "criterion = nn.MSELoss()\n",
        "optimizer = torch.optim.Adam(model.parameters(), lr=learning_rate)"
      ],
      "metadata": {
        "id": "4RkR7eNrY_kN"
      },
      "execution_count": 9,
      "outputs": []
    },
    {
      "cell_type": "code",
      "source": [
        "# Model Train\n",
        "\n",
        "loss_list = []\n",
        "\n",
        "for epoch_num in range(num_epochs):\n",
        "  average_cost = 0\n",
        "\n",
        "  for batch_idx, images in enumerate(train_loader):\n",
        "    num_of_mini_batch = len(train_loader)\n",
        "\n",
        "    images = images.to(device)\n",
        "    input_image = images.reshape(-1, 28*28)\n",
        "    optimizer.zero_grad()\n",
        "    y_predict = model(input_image)\n",
        "    loss = criterion(y_predict, input_image)\n",
        "    loss.backward()\n",
        "    optimizer.step()\n",
        "\n",
        "    average_cost = average_cost + (loss.item()/num_of_mini_batch)\n",
        "    loss_list.append(loss)\n",
        "\n",
        "  print(\"Epoch {} Loss {:5f}\".format((epoch_num+1), average_cost))"
      ],
      "metadata": {
        "colab": {
          "base_uri": "https://localhost:8080/"
        },
        "id": "ldXl0b-sY_hn",
        "outputId": "c4dc0408-4600-4b2b-8ed8-cda8afa522e2"
      },
      "execution_count": 10,
      "outputs": [
        {
          "output_type": "stream",
          "name": "stdout",
          "text": [
            "Epoch 1 Loss 0.060991\n",
            "Epoch 2 Loss 0.027403\n",
            "Epoch 3 Loss 0.023707\n",
            "Epoch 4 Loss 0.021997\n",
            "Epoch 5 Loss 0.020403\n",
            "Epoch 6 Loss 0.019255\n",
            "Epoch 7 Loss 0.018501\n",
            "Epoch 8 Loss 0.017861\n",
            "Epoch 9 Loss 0.017376\n",
            "Epoch 10 Loss 0.016954\n"
          ]
        }
      ]
    },
    {
      "cell_type": "code",
      "source": [
        "# Test\n",
        "\n",
        "for batch_idx, image in enumerate(test_loader):\n",
        "  with torch.no_grad():\n",
        "    test_img = image.reshape(-1, 784).to(device)\n",
        "    test_recon_x = model(test_img)"
      ],
      "metadata": {
        "id": "42IFHf7gY_fA"
      },
      "execution_count": 11,
      "outputs": []
    },
    {
      "cell_type": "code",
      "source": [
        "n = 10\n",
        "plt.figure(figsize=(20,5))\n",
        "\n",
        "for i in range(n):\n",
        "  ax = plt.subplot(2, 10, i + 1)\n",
        "  test_img = image[i*100].to(device)\n",
        "  plt.imshow(test_img.cpu(), cmap='gray')\n",
        "\n",
        "  ax = plt.subplot(2, 10, i+1+n)\n",
        "  recon_image = test_recon_x.data[i*100].reshape(28, 28)\n",
        "  plt.imshow(recon_image.cpu(),cmap='gray')"
      ],
      "metadata": {
        "colab": {
          "base_uri": "https://localhost:8080/",
          "height": 402
        },
        "id": "fE5_lGOHY_ca",
        "outputId": "c5a29748-32bf-4ce6-fdcc-2fce9bd2d354"
      },
      "execution_count": 12,
      "outputs": [
        {
          "output_type": "display_data",
          "data": {
            "text/plain": [
              "<Figure size 2000x500 with 20 Axes>"
            ],
            "image/png": "[encoded data removed]"
          },
          "metadata": {}
        }
      ]
    },
    {
      "cell_type": "code",
      "source": [],
      "metadata": {
        "id": "u7qCyV6TY_ZC"
      },
      "execution_count": 12,
      "outputs": []
    }
  ]
}