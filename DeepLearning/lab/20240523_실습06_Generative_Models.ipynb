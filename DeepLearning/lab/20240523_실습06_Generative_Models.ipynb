{
  "nbformat": 4,
  "nbformat_minor": 0,
  "metadata": {
    "colab": {
      "provenance": [],
      "gpuType": "T4",
      "authorship_tag": "ABX9TyPPRLQIyOIXeikBxIJru0RF",
      "include_colab_link": true
    },
    "kernelspec": {
      "name": "python3",
      "display_name": "Python 3"
    },
    "language_info": {
      "name": "python"
    },
    "accelerator": "GPU"
  },
  "cells": [
    {
      "cell_type": "markdown",
      "metadata": {
        "id": "view-in-github",
        "colab_type": "text"
      },
      "source": [
        "<a href=\"https://colab.research.google.com/github/hydrationn/Machine-DeepLearning/blob/main/DeepLearning/lab/20240523_%EC%8B%A4%EC%8A%B506_Generative_Models.ipynb\" target=\"_parent\"><img src=\"https://colab.research.google.com/assets/colab-badge.svg\" alt=\"Open In Colab\"/></a>"
      ]
    },
    {
      "cell_type": "code",
      "source": [
        "# Practice 6-1. Fashion MNIST Reconstruction - Autoencoder"
      ],
      "metadata": {
        "id": "hHmEOlapKY8j"
      },
      "execution_count": 39,
      "outputs": []
    },
    {
      "cell_type": "code",
      "execution_count": 3,
      "metadata": {
        "id": "8sRyHedoElX_"
      },
      "outputs": [],
      "source": [
        "# Import package\n",
        "\n",
        "import torch\n",
        "import torch.nn as nn\n",
        "import torch.nn.functional as F\n",
        "from torch.utils.data import Dataset, DataLoader\n",
        "import torch.utils.data as data_utils\n",
        "import torchvision\n",
        "import torchvision.datasets as datasets\n",
        "import torchvision.transforms as transforms\n",
        "\n",
        "import numpy as np\n",
        "import matplotlib.pyplot as plt\n",
        "import random"
      ]
    },
    {
      "cell_type": "code",
      "source": [
        "# GPU/CPU setting\n",
        "\n",
        "device = 'cuda' if torch.cuda.is_available() else 'cpu'\n",
        "print(device)\n",
        "\n",
        "random.seed(777)\n",
        "torch.manual_seed(777)\n",
        "if device == 'cuda':\n",
        "  torch.cuda.manual_seed_all(777)"
      ],
      "metadata": {
        "colab": {
          "base_uri": "https://localhost:8080/"
        },
        "id": "kMTpKc7pFjDm",
        "outputId": "dd7e4f15-bcf5-4e06-c5ea-b159dba7e883"
      },
      "execution_count": 4,
      "outputs": [
        {
          "output_type": "stream",
          "name": "stdout",
          "text": [
            "cuda\n"
          ]
        }
      ]
    },
    {
      "cell_type": "code",
      "source": [
        "# import dataset\n",
        "\n",
        "fashion_train = datasets.FashionMNIST(\"../image_data/FashionMNIST\", train=True, download=True, transform=transforms.ToTensor())\n",
        "fashion_test = datasets.FashionMNIST(\"../image_data/FashionMNIST\", train=False, download=True, transform=transforms.ToTensor())\n",
        "\n",
        "fashion_train.data = fashion_train.data/255.0\n",
        "fashion_train.targets = fashion_train.targets\n",
        "fashion_test.data = fashion_test.data/255.0\n",
        "fashion_test.targets = fashion_test.targets"
      ],
      "metadata": {
        "colab": {
          "base_uri": "https://localhost:8080/"
        },
        "id": "3Kd921LWFjAx",
        "outputId": "abc340d0-558c-4b5c-e35b-5f73618d0949"
      },
      "execution_count": 5,
      "outputs": [
        {
          "output_type": "stream",
          "name": "stdout",
          "text": [
            "Downloading http://fashion-mnist.s3-website.eu-central-1.amazonaws.com/train-images-idx3-ubyte.gz\n",
            "Downloading http://fashion-mnist.s3-website.eu-central-1.amazonaws.com/train-images-idx3-ubyte.gz to ../image_data/FashionMNIST/FashionMNIST/raw/train-images-idx3-ubyte.gz\n"
          ]
        },
        {
          "output_type": "stream",
          "name": "stderr",
          "text": [
            "100%|██████████| 26421880/26421880 [00:06<00:00, 3961304.28it/s]\n"
          ]
        },
        {
          "output_type": "stream",
          "name": "stdout",
          "text": [
            "Extracting ../image_data/FashionMNIST/FashionMNIST/raw/train-images-idx3-ubyte.gz to ../image_data/FashionMNIST/FashionMNIST/raw\n",
            "\n",
            "Downloading http://fashion-mnist.s3-website.eu-central-1.amazonaws.com/train-labels-idx1-ubyte.gz\n",
            "Downloading http://fashion-mnist.s3-website.eu-central-1.amazonaws.com/train-labels-idx1-ubyte.gz to ../image_data/FashionMNIST/FashionMNIST/raw/train-labels-idx1-ubyte.gz\n"
          ]
        },
        {
          "output_type": "stream",
          "name": "stderr",
          "text": [
            "100%|██████████| 29515/29515 [00:00<00:00, 270726.60it/s]\n"
          ]
        },
        {
          "output_type": "stream",
          "name": "stdout",
          "text": [
            "Extracting ../image_data/FashionMNIST/FashionMNIST/raw/train-labels-idx1-ubyte.gz to ../image_data/FashionMNIST/FashionMNIST/raw\n",
            "\n",
            "Downloading http://fashion-mnist.s3-website.eu-central-1.amazonaws.com/t10k-images-idx3-ubyte.gz\n",
            "Downloading http://fashion-mnist.s3-website.eu-central-1.amazonaws.com/t10k-images-idx3-ubyte.gz to ../image_data/FashionMNIST/FashionMNIST/raw/t10k-images-idx3-ubyte.gz\n"
          ]
        },
        {
          "output_type": "stream",
          "name": "stderr",
          "text": [
            "100%|██████████| 4422102/4422102 [00:00<00:00, 4979880.63it/s]\n"
          ]
        },
        {
          "output_type": "stream",
          "name": "stdout",
          "text": [
            "Extracting ../image_data/FashionMNIST/FashionMNIST/raw/t10k-images-idx3-ubyte.gz to ../image_data/FashionMNIST/FashionMNIST/raw\n",
            "\n",
            "Downloading http://fashion-mnist.s3-website.eu-central-1.amazonaws.com/t10k-labels-idx1-ubyte.gz\n",
            "Downloading http://fashion-mnist.s3-website.eu-central-1.amazonaws.com/t10k-labels-idx1-ubyte.gz to ../image_data/FashionMNIST/FashionMNIST/raw/t10k-labels-idx1-ubyte.gz\n"
          ]
        },
        {
          "output_type": "stream",
          "name": "stderr",
          "text": [
            "100%|██████████| 5148/5148 [00:00<00:00, 20821867.88it/s]\n"
          ]
        },
        {
          "output_type": "stream",
          "name": "stdout",
          "text": [
            "Extracting ../image_data/FashionMNIST/FashionMNIST/raw/t10k-labels-idx1-ubyte.gz to ../image_data/FashionMNIST/FashionMNIST/raw\n",
            "\n"
          ]
        }
      ]
    },
    {
      "cell_type": "code",
      "source": [
        "# Import dataset\n",
        "\n",
        "plt.imshow(fashion_train.data[1], cmap=\"gray\")\n",
        "print(fashion_train.targets[1])"
      ],
      "metadata": {
        "colab": {
          "base_uri": "https://localhost:8080/",
          "height": 448
        },
        "id": "9JXc7g0nFi0Q",
        "outputId": "d860a92f-c209-4430-f56b-913718b383ac"
      },
      "execution_count": 7,
      "outputs": [
        {
          "output_type": "stream",
          "name": "stdout",
          "text": [
            "tensor(0)\n"
          ]
        },
        {
          "output_type": "display_data",
          "data": {
            "text/plain": [
              "<Figure size 640x480 with 1 Axes>"
            ],
            "image/png": "[encoded data removed]"
          },
          "metadata": {}
        }
      ]
    },
    {
      "cell_type": "code",
      "source": [
        "# Batch generation\n",
        "\n",
        "batch_size = 256\n",
        "\n",
        "train_loader = torch.utils.data.DataLoader(fashion_train.data, batch_size=batch_size, shuffle=True, drop_last=False)\n",
        "test_loader = torch.utils.data.DataLoader(fashion_test.data, batch_size=len(fashion_test.data), shuffle=False, drop_last=False)"
      ],
      "metadata": {
        "id": "UVo8dJywFix6"
      },
      "execution_count": 8,
      "outputs": []
    },
    {
      "cell_type": "code",
      "source": [
        "# Model\n",
        "\n",
        "class Autoencoder(nn.Module):\n",
        "  def __init__(self):\n",
        "    super(Autoencoder, self).__init__()\n",
        "\n",
        "    self.encoder = nn.Linear(784, 16)\n",
        "    self.decoder = nn.Linear(16, 784)\n",
        "\n",
        "  def forward(self, x):\n",
        "    z_vector = self.encoder(x)\n",
        "    output = self.decoder(z_vector)\n",
        "\n",
        "    return torch.sigmoid(output)"
      ],
      "metadata": {
        "id": "_nrfaDFzFivS"
      },
      "execution_count": 9,
      "outputs": []
    },
    {
      "cell_type": "code",
      "source": [
        "model = Autoencoder().to(device)"
      ],
      "metadata": {
        "id": "HSb8Xf6iFist"
      },
      "execution_count": 10,
      "outputs": []
    },
    {
      "cell_type": "code",
      "source": [
        "# Parameter, loss function, optimizer\n",
        "\n",
        "# Hyperparameters\n",
        "\n",
        "num_epochs = 10\n",
        "learning_rate = 0.001\n",
        "\n",
        "criterion = nn.MSELoss()\n",
        "optimizer = torch.optim.Adam(model.parameters(), lr=learning_rate)"
      ],
      "metadata": {
        "id": "Hkbv07nxIO9e"
      },
      "execution_count": 25,
      "outputs": []
    },
    {
      "cell_type": "code",
      "source": [
        "# Model Train\n",
        "\n",
        "loss_list = []\n",
        "\n",
        "for epoch_num in range(num_epochs):\n",
        "  average_cost = 0\n",
        "\n",
        "  for batch_idx, images in enumerate(train_loader):\n",
        "    num_of_mini_batch = len(train_loader)\n",
        "\n",
        "    images = images.to(device)\n",
        "    input_image = images.reshape(-1, 28*28)\n",
        "    optimizer.zero_grad()\n",
        "    y_predict = model(input_image)\n",
        "    loss = criterion(y_predict, input_image)\n",
        "    loss.backward()\n",
        "    optimizer.step()\n",
        "\n",
        "    average_cost = average_cost + (loss.item()/num_of_mini_batch)\n",
        "    loss_list.append(loss)\n",
        "\n",
        "  print(\"Epoch {} Loss {:5f}\".format((epoch_num+1), average_cost))"
      ],
      "metadata": {
        "colab": {
          "base_uri": "https://localhost:8080/"
        },
        "id": "GlbWYylzIO7L",
        "outputId": "2ac9157c-e24e-42cf-d341-a29886dd35ac"
      },
      "execution_count": 12,
      "outputs": [
        {
          "output_type": "stream",
          "name": "stdout",
          "text": [
            "Epoch 1 Loss 0.078340\n",
            "Epoch 2 Loss 0.040478\n",
            "Epoch 3 Loss 0.031948\n",
            "Epoch 4 Loss 0.027047\n",
            "Epoch 5 Loss 0.023884\n",
            "Epoch 6 Loss 0.021954\n",
            "Epoch 7 Loss 0.020769\n",
            "Epoch 8 Loss 0.020043\n",
            "Epoch 9 Loss 0.019513\n",
            "Epoch 10 Loss 0.019107\n"
          ]
        }
      ]
    },
    {
      "cell_type": "code",
      "source": [
        "# Test\n",
        "\n",
        "for batch_idx, image in enumerate(test_loader):\n",
        "  with torch.no_grad():\n",
        "    test_img = image.reshape(-1, 784).to(device)\n",
        "    test_recon_x = model(test_img)"
      ],
      "metadata": {
        "id": "YHYxcSF4JZUo"
      },
      "execution_count": 13,
      "outputs": []
    },
    {
      "cell_type": "code",
      "source": [
        "n = 10\n",
        "plt.figure(figsize=(20,5))\n",
        "\n",
        "for i in range(n):\n",
        "  ax = plt.subplot(2, 10, i + 1)\n",
        "  test_img = image[i*100].to(device)\n",
        "  plt.imshow(test_img.cpu(), cmap='gray')\n",
        "\n",
        "  ax = plt.subplot(2, 10, i+1+n)\n",
        "  recon_image = test_recon_x.data[i*100].reshape(28, 28)\n",
        "  plt.imshow(recon_image.cpu(),cmap='gray')"
      ],
      "metadata": {
        "colab": {
          "base_uri": "https://localhost:8080/",
          "height": 218
        },
        "id": "kFK3dAQ1JZND",
        "outputId": "a405a2e0-89c7-4c88-90f8-bdb517557f43"
      },
      "execution_count": 14,
      "outputs": [
        {
          "output_type": "display_data",
          "data": {
            "text/plain": [
              "<Figure size 2000x500 with 20 Axes>"
            ],
            "image/png": "[encoded data removed]"
          },
          "metadata": {}
        }
      ]
    },
    {
      "cell_type": "code",
      "source": [],
      "metadata": {
        "id": "3Wm_Hb5rJZKv"
      },
      "execution_count": 14,
      "outputs": []
    },
    {
      "cell_type": "code",
      "source": [
        "# Practice 6-2. MNIST Generation - Variational Autoencoder(VAE)"
      ],
      "metadata": {
        "id": "Ld4MZVuvKQAb"
      },
      "execution_count": 38,
      "outputs": []
    },
    {
      "cell_type": "code",
      "source": [
        "# Import package\n",
        "\n",
        "import torch.nn as nn\n",
        "import torch.nn.functional as F\n",
        "from torch.utils.data import Dataset, DataLoader\n",
        "import torch.utils.data as data_utils\n",
        "import torchvision\n",
        "import torchvision.datasets as datasets\n",
        "import torchvision.transforms as transforms\n",
        "\n",
        "import numpy as np\n",
        "import matplotlib.pyplot as plt\n",
        "import random"
      ],
      "metadata": {
        "id": "mhealomMKP92"
      },
      "execution_count": 16,
      "outputs": []
    },
    {
      "cell_type": "code",
      "source": [
        "# GPU/CPU setting\n",
        "\n",
        "device = 'cuda' if torch.cuda.is_available() else 'cpu'\n",
        "print(device)\n",
        "\n",
        "random.seed(777)\n",
        "torch.manual_seed(777)\n",
        "if device == 'cuda':\n",
        "  torch.cuda.manual_seed_all(777)"
      ],
      "metadata": {
        "colab": {
          "base_uri": "https://localhost:8080/"
        },
        "id": "Jg-Vhjh3KP5b",
        "outputId": "559bdc20-b5b0-4ba8-8e3f-9799bcefa72b"
      },
      "execution_count": 17,
      "outputs": [
        {
          "output_type": "stream",
          "name": "stdout",
          "text": [
            "cuda\n"
          ]
        }
      ]
    },
    {
      "cell_type": "code",
      "source": [
        "# import dataset\n",
        "\n",
        "fashion_train = datasets.FashionMNIST(\"../image_data/FashionMNIST\", train=True, download=True, transform=transforms.ToTensor())\n",
        "fashion_test = datasets.FashionMNIST(\"../image_data/FashionMNIST\", train=False, download=True, transform=transforms.ToTensor())\n",
        "\n",
        "fashion_train.data = fashion_train.data/255.0\n",
        "fashion_train.targets = fashion_train.targets\n",
        "fashion_test.data = fashion_test.data/255.0\n",
        "fashion_test.targets = fashion_test.targets"
      ],
      "metadata": {
        "id": "lRmcWjvbSKnD"
      },
      "execution_count": 18,
      "outputs": []
    },
    {
      "cell_type": "code",
      "source": [
        "# import dataset\n",
        "\n",
        "plt.imshow(fashion_train.data[1], cmap=\"gray\")\n",
        "print(fashion_train.targets[1])"
      ],
      "metadata": {
        "colab": {
          "base_uri": "https://localhost:8080/",
          "height": 448
        },
        "id": "51rh9RwzSKkt",
        "outputId": "1661fecf-47e3-4b35-c70c-5b8e72a3e540"
      },
      "execution_count": 19,
      "outputs": [
        {
          "output_type": "stream",
          "name": "stdout",
          "text": [
            "tensor(0)\n"
          ]
        },
        {
          "output_type": "display_data",
          "data": {
            "text/plain": [
              "<Figure size 640x480 with 1 Axes>"
            ],
            "image/png": "[encoded data removed]"
          },
          "metadata": {}
        }
      ]
    },
    {
      "cell_type": "code",
      "source": [
        "# Batch generation\n",
        "\n",
        "batch_size = 256\n",
        "\n",
        "train_loader = torch.utils.data.DataLoader(fashion_train.data, batch_size=batch_size, shuffle=True, drop_last=False)\n",
        "test_loader = torch.utils.data.DataLoader(fashion_train.data, batch_size=len(fashion_test.data), shuffle=False, drop_last=False)"
      ],
      "metadata": {
        "id": "LdP8faGmSKiX"
      },
      "execution_count": 20,
      "outputs": []
    },
    {
      "cell_type": "code",
      "source": [
        "# Model\n",
        "\n",
        "class VAE(nn.Module):\n",
        "  def __init__(self):\n",
        "    super(VAE, self).__init__()\n",
        "\n",
        "    self.fc1 = nn.Linear(784, 400)\n",
        "    self.mu = nn.Linear(400, 20)\n",
        "    self.logvar = nn.Linear(400, 20)\n",
        "    self.fc2 = nn.Linear(20, 400)\n",
        "    self.fc3 = nn.Linear(400, 784)\n",
        "\n",
        "  def encode(self, x):\n",
        "    h1 = F.relu(self.fc1(x))\n",
        "    mu = self.mu(h1)\n",
        "    logvar = self.logvar(h1)\n",
        "\n",
        "    return mu, logvar\n",
        "\n",
        "  def reparameterize(self, mu_vector, logvar_vector):\n",
        "    var_vector = torch.exp(logvar_vector)\n",
        "    std = torch.sqrt(var_vector)\n",
        "    eps = torch.randn_like(std)\n",
        "    z_vector = mu_vector + eps.mul(std)\n",
        "\n",
        "    return z_vector\n",
        "\n",
        "  def decode(self, z):\n",
        "    h2 = F.relu(self.fc2(z))\n",
        "    Bernouhlli_p = torch.sigmoid(self.fc3(h2))\n",
        "\n",
        "    return Bernouhlli_p\n",
        "\n",
        "  def forward(self, x):\n",
        "    mu, logvar = self.encode(x)\n",
        "    z = self.reparameterize(mu, logvar)\n",
        "    Bernouhlli_p = self.decode(z)\n",
        "\n",
        "    return Bernouhlli_p, mu, logvar"
      ],
      "metadata": {
        "id": "tjiggt9pdV98"
      },
      "execution_count": 28,
      "outputs": []
    },
    {
      "cell_type": "code",
      "source": [
        "model = VAE().to(device)"
      ],
      "metadata": {
        "id": "nN4_8dj8dV7Y"
      },
      "execution_count": 29,
      "outputs": []
    },
    {
      "cell_type": "code",
      "source": [
        "# Parameter, loss function, optimizer\n",
        "\n",
        "def loss_function(recon_x, x, mu, logvar):\n",
        "  Bernouhlli_loss = F.binary_cross_entropy(recon_x, x.reshape(-1, 784), reduction='sum')\n",
        "  KL_divergence = -0.5 * torch.sum(1 + logvar - mu.pow(2) - logvar.exp())\n",
        "\n",
        "  return Bernouhlli_loss + KL_divergence"
      ],
      "metadata": {
        "id": "3FkNzv_mfTJC"
      },
      "execution_count": 30,
      "outputs": []
    },
    {
      "cell_type": "code",
      "source": [
        "# Hyperparameters\n",
        "\n",
        "num_epochs = 10\n",
        "learning_rate = 0.001\n",
        "\n",
        "optimizer = torch.optim.Adam(model.parameters(), lr=learning_rate)"
      ],
      "metadata": {
        "id": "-0FsQIZLfTGc"
      },
      "execution_count": 31,
      "outputs": []
    },
    {
      "cell_type": "code",
      "source": [
        "# Model Train\n",
        "\n",
        "loss_list = []\n",
        "\n",
        "for epoch_num in range(num_epochs):\n",
        "  average_cost = 0\n",
        "\n",
        "  for batch_idx, images in enumerate(train_loader):\n",
        "    num_of_mini_batch = len(train_loader)\n",
        "\n",
        "    images = images.to(device)\n",
        "    input_image = images.reshape(-1, 28*28)\n",
        "    optimizer.zero_grad()\n",
        "    recon_x, mu, logvar = model(input_image)\n",
        "    loss = loss_function(recon_x, input_image, mu, logvar)\n",
        "    loss.backward()\n",
        "    optimizer.step()\n",
        "\n",
        "    average_cost = average_cost + (loss.item()/num_of_mini_batch)\n",
        "    loss_list.append(loss)\n",
        "\n",
        "  print(\"Epoch {} Loss {:5f}\".format((epoch_num+1), average_cost))"
      ],
      "metadata": {
        "colab": {
          "base_uri": "https://localhost:8080/"
        },
        "id": "dZzYGyzBfTEG",
        "outputId": "8d41e5f8-6e7c-4495-bcfc-7fba4a599fee"
      },
      "execution_count": 33,
      "outputs": [
        {
          "output_type": "stream",
          "name": "stdout",
          "text": [
            "Epoch 1 Loss 77508.685530\n",
            "Epoch 2 Loss 67112.773562\n",
            "Epoch 3 Loss 65278.708195\n",
            "Epoch 4 Loss 64302.099219\n",
            "Epoch 5 Loss 63696.483452\n",
            "Epoch 6 Loss 63243.386054\n",
            "Epoch 7 Loss 62960.947931\n",
            "Epoch 8 Loss 62718.255170\n",
            "Epoch 9 Loss 62541.888198\n",
            "Epoch 10 Loss 62389.932247\n"
          ]
        }
      ]
    },
    {
      "cell_type": "code",
      "source": [
        "# Test\n",
        "\n",
        "for batch_idx, label in enumerate(test_loader):\n",
        "  with torch.no_grad():\n",
        "    test_img = image.to(device)\n",
        "    test_img = test_img.reshape(-1, 28*28)\n",
        "    test_recon_x, _, _ = model(test_img)"
      ],
      "metadata": {
        "id": "A0dtK-Y8fTBg"
      },
      "execution_count": 35,
      "outputs": []
    },
    {
      "cell_type": "code",
      "source": [
        "n = 10\n",
        "plt.figure(figsize=(20, 4))\n",
        "\n",
        "for i in range(n):\n",
        "  ax = plt.subplot(2, 10, i+1)\n",
        "  image = test_img[i].reshape(28, 28)\n",
        "  plt.imshow(image.cpu(), cmap = 'gray')\n",
        "\n",
        "  ax = plt.subplot(2, 10, i+1+n)\n",
        "  recon_image = test_recon_x.data[i].cpu().reshape(28, 28)\n",
        "  plt.imshow(recon_image, cmap='gray')"
      ],
      "metadata": {
        "colab": {
          "base_uri": "https://localhost:8080/",
          "height": 197
        },
        "id": "_Eldawr3gdah",
        "outputId": "9fb8b0f1-d8a2-4e48-fe81-c1e4ff860c12"
      },
      "execution_count": 36,
      "outputs": [
        {
          "output_type": "display_data",
          "data": {
            "text/plain": [
              "<Figure size 2000x400 with 20 Axes>"
            ],
            "image/png": "[encoded data removed]"
          },
          "metadata": {}
        }
      ]
    },
    {
      "cell_type": "code",
      "source": [],
      "metadata": {
        "id": "3cOuuCxguZp1"
      },
      "execution_count": null,
      "outputs": []
    },
    {
      "cell_type": "code",
      "source": [
        "# Practice 6-3. MNIST Generation - Variational Autoencoder(VAE)"
      ],
      "metadata": {
        "id": "iHXhMghzuZnO"
      },
      "execution_count": 40,
      "outputs": []
    },
    {
      "cell_type": "code",
      "source": [
        "# Import package\n",
        "\n",
        "import torch\n",
        "import torch.nn as nn\n",
        "import torch.nn.functional as F\n",
        "from torch.utils.data import Dataset, DataLoader\n",
        "import torch.utils.data as data_utils\n",
        "import torchvision\n",
        "import torchvision.datasets as datasets\n",
        "import torchvision.transforms as transforms\n",
        "\n",
        "import numpy as np\n",
        "import matplotlib.pyplot as plt\n",
        "import random"
      ],
      "metadata": {
        "id": "e4dWM7bkuZkn"
      },
      "execution_count": 41,
      "outputs": []
    },
    {
      "cell_type": "code",
      "source": [
        "# GPU/CPU setting\n",
        "\n",
        "device = 'cuda' if torch.cuda.is_available() else 'cpu'\n",
        "print(device)\n",
        "\n",
        "random.seed(777)\n",
        "torch.manual_seed(777)\n",
        "if device == 'cuda':\n",
        "  torch.cuda.manual_seed_all(777)"
      ],
      "metadata": {
        "colab": {
          "base_uri": "https://localhost:8080/"
        },
        "id": "39o7Jh6suZiR",
        "outputId": "80db2c43-fb32-4e36-f46d-25d569e6ce8f"
      },
      "execution_count": 42,
      "outputs": [
        {
          "output_type": "stream",
          "name": "stdout",
          "text": [
            "cuda\n"
          ]
        }
      ]
    },
    {
      "cell_type": "code",
      "source": [
        "# Import dataset\n",
        "\n",
        "train_dataset = torchvision.datasets.MNIST(root='./data', train=True, transform=transforms.ToTensor(), download=True)\n",
        "test_dataset = torchvision.datasets.MNIST(root='./data', train=True, transform=transforms.ToTensor(), download=True)"
      ],
      "metadata": {
        "colab": {
          "base_uri": "https://localhost:8080/"
        },
        "id": "d4pulBa5uZf9",
        "outputId": "ce667467-4af2-4131-f9d0-a884bd85c097"
      },
      "execution_count": 44,
      "outputs": [
        {
          "output_type": "stream",
          "name": "stdout",
          "text": [
            "Downloading http://yann.lecun.com/exdb/mnist/train-images-idx3-ubyte.gz\n",
            "Failed to download (trying next):\n",
            "HTTP Error 403: Forbidden\n",
            "\n",
            "Downloading https://ossci-datasets.s3.amazonaws.com/mnist/train-images-idx3-ubyte.gz\n",
            "Downloading https://ossci-datasets.s3.amazonaws.com/mnist/train-images-idx3-ubyte.gz to ./data/MNIST/raw/train-images-idx3-ubyte.gz\n"
          ]
        },
        {
          "output_type": "stream",
          "name": "stderr",
          "text": [
            "100%|██████████| 9912422/9912422 [00:00<00:00, 35555491.05it/s]\n"
          ]
        },
        {
          "output_type": "stream",
          "name": "stdout",
          "text": [
            "Extracting ./data/MNIST/raw/train-images-idx3-ubyte.gz to ./data/MNIST/raw\n",
            "\n",
            "Downloading http://yann.lecun.com/exdb/mnist/train-labels-idx1-ubyte.gz\n",
            "Failed to download (trying next):\n",
            "HTTP Error 403: Forbidden\n",
            "\n",
            "Downloading https://ossci-datasets.s3.amazonaws.com/mnist/train-labels-idx1-ubyte.gz\n",
            "Downloading https://ossci-datasets.s3.amazonaws.com/mnist/train-labels-idx1-ubyte.gz to ./data/MNIST/raw/train-labels-idx1-ubyte.gz\n"
          ]
        },
        {
          "output_type": "stream",
          "name": "stderr",
          "text": [
            "100%|██████████| 28881/28881 [00:00<00:00, 1111622.19it/s]\n"
          ]
        },
        {
          "output_type": "stream",
          "name": "stdout",
          "text": [
            "Extracting ./data/MNIST/raw/train-labels-idx1-ubyte.gz to ./data/MNIST/raw\n",
            "\n",
            "Downloading http://yann.lecun.com/exdb/mnist/t10k-images-idx3-ubyte.gz\n",
            "Failed to download (trying next):\n",
            "HTTP Error 403: Forbidden\n",
            "\n",
            "Downloading https://ossci-datasets.s3.amazonaws.com/mnist/t10k-images-idx3-ubyte.gz\n",
            "Downloading https://ossci-datasets.s3.amazonaws.com/mnist/t10k-images-idx3-ubyte.gz to ./data/MNIST/raw/t10k-images-idx3-ubyte.gz\n"
          ]
        },
        {
          "output_type": "stream",
          "name": "stderr",
          "text": [
            "100%|██████████| 1648877/1648877 [00:00<00:00, 9669140.47it/s]\n"
          ]
        },
        {
          "output_type": "stream",
          "name": "stdout",
          "text": [
            "Extracting ./data/MNIST/raw/t10k-images-idx3-ubyte.gz to ./data/MNIST/raw\n",
            "\n",
            "Downloading http://yann.lecun.com/exdb/mnist/t10k-labels-idx1-ubyte.gz\n",
            "Failed to download (trying next):\n",
            "HTTP Error 403: Forbidden\n",
            "\n",
            "Downloading https://ossci-datasets.s3.amazonaws.com/mnist/t10k-labels-idx1-ubyte.gz\n",
            "Downloading https://ossci-datasets.s3.amazonaws.com/mnist/t10k-labels-idx1-ubyte.gz to ./data/MNIST/raw/t10k-labels-idx1-ubyte.gz\n"
          ]
        },
        {
          "output_type": "stream",
          "name": "stderr",
          "text": [
            "100%|██████████| 4542/4542 [00:00<00:00, 13012656.26it/s]"
          ]
        },
        {
          "output_type": "stream",
          "name": "stdout",
          "text": [
            "Extracting ./data/MNIST/raw/t10k-labels-idx1-ubyte.gz to ./data/MNIST/raw\n",
            "\n"
          ]
        },
        {
          "output_type": "stream",
          "name": "stderr",
          "text": [
            "\n"
          ]
        }
      ]
    },
    {
      "cell_type": "code",
      "source": [
        "# Batch generation\n",
        "\n",
        "batch_size = 256\n",
        "\n",
        "train_loader = DataLoader(dataset = train_dataset, batch_size=batch_size, shuffle=True)\n",
        "test_loader = DataLoader(dataset = test_dataset, batch_size=batch_size, shuffle=False)"
      ],
      "metadata": {
        "id": "OoOrPCd3uyCx"
      },
      "execution_count": 46,
      "outputs": []
    },
    {
      "cell_type": "code",
      "source": [
        "# Model\n",
        "\n",
        "class VAE(nn.Module):\n",
        "  def __init__(self):\n",
        "    super(VAE, self).__init__()\n",
        "\n",
        "    self.fc1 = nn.Linear(784, 400)\n",
        "    self.mu = nn.Linear(400, 20)\n",
        "    self.logvar = nn.Linear(400, 20)\n",
        "    self.fc2 = nn.Linear(20, 400)\n",
        "    self.fc3 = nn.Linear(400, 784)\n",
        "\n",
        "  def encode(self, x):\n",
        "    h1 = F.relu(self.fc1(x))\n",
        "    mu = self.mu(h1)\n",
        "    logvar = self.logvar(h1)\n",
        "\n",
        "    return mu, logvar\n",
        "\n",
        "  def reparameterize(self, mu_vector, logvar_vector):\n",
        "    var_vector = torch.exp(logvar_vector)\n",
        "    std = torch.sqrt(var_vector)\n",
        "    eps = torch.randn_like(std)\n",
        "    z_vector = mu_vector + eps.mul(std)\n",
        "\n",
        "    return z_vector\n",
        "\n",
        "  def decode(self, z):\n",
        "    h2 = F.relu(self.fc2(z))\n",
        "    Bernouhlli_p = torch.sigmoid(self.fc3(h2))\n",
        "\n",
        "    return Bernouhlli_p\n",
        "\n",
        "  def forward(self, x):\n",
        "    mu, logvar = self.encode(x)\n",
        "    z = self.reparameterize(mu, logvar)\n",
        "    Bernouhlli_p = self.decode(z)\n",
        "\n",
        "    return Bernouhlli_p, mu, logvar"
      ],
      "metadata": {
        "id": "2ZMKIRNtuyAb"
      },
      "execution_count": 47,
      "outputs": []
    },
    {
      "cell_type": "code",
      "source": [
        "model = VAE().to(device)"
      ],
      "metadata": {
        "id": "pt0raEQUux91"
      },
      "execution_count": 48,
      "outputs": []
    },
    {
      "cell_type": "code",
      "source": [
        "# Parameter, loss function, optimizer\n",
        "\n",
        "def loss_function(recon_x, x, mu, logvar):\n",
        "  Bernouhlli_loss = F.binary_cross_entropy(recon_x, x.reshape(-1, 784), reduction='sum')\n",
        "  KL_divergence = -0.5 * torch.sum(1 + logvar - mu.pow(2) - logvar.exp())\n",
        "\n",
        "  return Bernouhlli_loss + KL_divergence"
      ],
      "metadata": {
        "id": "FnQx2EqJvztZ"
      },
      "execution_count": 52,
      "outputs": []
    },
    {
      "cell_type": "code",
      "source": [
        "# Hyperparameters\n",
        "\n",
        "num_epochs = 10\n",
        "learning_rate = 0.001\n",
        "\n",
        "optimizer = torch.optim.Adam(model.parameters(), lr=learning_rate)"
      ],
      "metadata": {
        "id": "nEF8nh4-vzrF"
      },
      "execution_count": 53,
      "outputs": []
    },
    {
      "cell_type": "code",
      "source": [
        "# Model train\n",
        "\n",
        "loss_list = []\n",
        "\n",
        "for epoch_num in range(num_epochs):\n",
        "  average_cost = 0\n",
        "\n",
        "  for batch_idx, (images, label) in enumerate(train_loader):\n",
        "    num_of_mini_batch = len(train_loader)\n",
        "\n",
        "    images = images.to(device)\n",
        "    input_image = images.reshape(-1, 28*28)\n",
        "    optimizer.zero_grad()\n",
        "    recon_x, mu, logvar = model(input_image)\n",
        "    loss = loss_function(recon_x, input_image, mu, logvar)\n",
        "    loss.backward()\n",
        "    optimizer.step()\n",
        "\n",
        "    average_cost = average_cost + (loss.item()/num_of_mini_batch)\n",
        "    loss_list.append(loss)\n",
        "\n",
        "  print(\"Epoch {} Loss {:5f}\".format((epoch_num+1), average_cost))"
      ],
      "metadata": {
        "colab": {
          "base_uri": "https://localhost:8080/"
        },
        "id": "ga1S-CbIy8IC",
        "outputId": "c9597fba-f447-4915-abde-e95e52c9addf"
      },
      "execution_count": 54,
      "outputs": [
        {
          "output_type": "stream",
          "name": "stdout",
          "text": [
            "Epoch 1 Loss 48340.363946\n",
            "Epoch 2 Loss 33808.483768\n",
            "Epoch 3 Loss 30776.886461\n",
            "Epoch 4 Loss 29546.870811\n",
            "Epoch 5 Loss 28884.140421\n",
            "Epoch 6 Loss 28430.356325\n",
            "Epoch 7 Loss 28134.798429\n",
            "Epoch 8 Loss 27884.508914\n",
            "Epoch 9 Loss 27699.012076\n",
            "Epoch 10 Loss 27538.305560\n"
          ]
        }
      ]
    },
    {
      "cell_type": "code",
      "source": [
        "# Test\n",
        "\n",
        "for batch_size, (image, label) in enumerate(test_loader):\n",
        "  with torch.no_grad():\n",
        "    test_img = image.to(device)\n",
        "    test_img = test_img.reshape(-1, 28*28)\n",
        "    test_recon_x, _, _ = model(test_img)"
      ],
      "metadata": {
        "id": "lG6OMKBSy8F9"
      },
      "execution_count": 55,
      "outputs": []
    },
    {
      "cell_type": "code",
      "source": [
        "n = 10\n",
        "plt.figure(figsize=(20, 4))\n",
        "\n",
        "for i in range(n):\n",
        "  ax = plt.subplot(2, 10, i+1)\n",
        "  image = test_img[i].reshape(28, 28)\n",
        "  plt.imshow(image.cpu(), cmap='gray')\n",
        "\n",
        "  ax = plt.subplot(2, 10, i+1+n)\n",
        "  recon_image = test_recon_x.data[i].cpu().reshape(28, 28)\n",
        "  plt.imshow(recon_image, cmap='gray')"
      ],
      "metadata": {
        "colab": {
          "base_uri": "https://localhost:8080/",
          "height": 197
        },
        "id": "rxfCpR2ey8DX",
        "outputId": "f6943ecc-c3c4-4f3b-c025-50a69284d80c"
      },
      "execution_count": 57,
      "outputs": [
        {
          "output_type": "display_data",
          "data": {
            "text/plain": [
              "<Figure size 2000x400 with 20 Axes>"
            ],
            "image/png": "[encoded data removed]"
          },
          "metadata": {}
        }
      ]
    },
    {
      "cell_type": "code",
      "source": [],
      "metadata": {
        "id": "fWN-cyCxgdRZ"
      },
      "execution_count": 56,
      "outputs": []
    }
  ]
}